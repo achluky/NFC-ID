{
 "cells": [
  {
   "cell_type": "markdown",
   "id": "5130b7ec",
   "metadata": {},
   "source": [
    "# Sistem rekomendasi tempat wisata di Indonesia menggunakan Neural Collaborative Filtering"
   ]
  },
  {
   "cell_type": "markdown",
   "id": "b65e9557",
   "metadata": {},
   "source": [
    "**Collaborative Filtering (CF)** adalah teknik sistem rekomendasi yang memprediksi preferensi (rating) pengguna terhadap item berdasarkan pola interaksi pengguna dan item (tanpa melihat konten/fitur eksplisit).\n",
    "\n",
    "Terdapat 2 pendekatan umum:\n",
    "1. Memory-based CF:\n",
    "    - Gunakan user-user atau item-item similarity (misal: cosine, Pearson).\n",
    "    - Tidak butuh training model.\n",
    "    - Contoh: \"Orang yang mirip kamu menyukai film ini.\"\n",
    "\n",
    "2. Model-based CF:\n",
    "    - Gunakan model matematis/statistik untuk belajar representasi tersembunyi (latent factor).\n",
    "    - Contoh: Matrix Factorization (SVD, ALS).\n",
    "\n",
    "\n",
    "**Neural Collaborative Filtering (NCF)** adalah pengembangan dari model-based CF, yang menggantikan matrix factorization dengan neural network. NCF belajar hubungan non-linear antara user dan item melalui representasi embedding dan MLP (Multi-Layer Perceptron).\n",
    "\n",
    "pada NCF:\n",
    "- Gunakan embedding untuk user & item.\n",
    "- Gunakan neural network untuk mempelajari interaksi.\n",
    "- Bisa menambahkan layer non-linear (ReLU, Dropout, BatchNorm).\n",
    "- Mendukung kompleksitas hubungan yang tidak bisa ditangkap oleh linear model seperti Matrix Factorization."
   ]
  },
  {
   "cell_type": "code",
   "execution_count": 2,
   "id": "d3ca826c",
   "metadata": {},
   "outputs": [],
   "source": [
    "# Menyiapkan library\n",
    "# Untuk pengolahan data\n",
    "import pandas as pd\n",
    "import numpy as np\n",
    "from zipfile import ZipFile\n",
    "from pathlib import Path\n",
    "\n",
    "# Untuk visualisasi data\n",
    "import seaborn as sns\n",
    "import matplotlib.pyplot as plt\n",
    "\n",
    "%matplotlib inline\n",
    "sns.set_palette('Set1')\n",
    "sns.set()\n",
    "\n",
    "# Untuk menghilangkan warnings saat plotting seaborn\n",
    "import warnings\n",
    "warnings.filterwarnings('ignore')\n",
    "\n",
    "# Untuk mengupload file\n",
    "import os"
   ]
  },
  {
   "cell_type": "markdown",
   "id": "374418d0",
   "metadata": {},
   "source": [
    "# 1. Menentukan Label Data\t"
   ]
  },
  {
   "cell_type": "markdown",
   "id": "fa2b17ca",
   "metadata": {},
   "source": [
    "Pada eksperimen ini NF mencoba memprediksi rating dari aktivitas pengguna. sehingga pendekatan yg dilakukan adalah regresi sederhanan sehingga tidak ada proses label data (anotasi)."
   ]
  },
  {
   "cell_type": "markdown",
   "id": "75af58df",
   "metadata": {},
   "source": [
    "# 2. Mengumpulkan Data\t"
   ]
  },
  {
   "cell_type": "markdown",
   "id": "45be9776",
   "metadata": {},
   "source": [
    "Data diambil dari kaggel menggunakan library kaggel terkait dengan data pariwisata di indonesia. Adapun langkah-langkah dalam mengambilan data yang terdapat pada kaggel adalah: \n",
    "1. Membuka laman Kaggle.com dan memilih data yang diinginkan.\n",
    "2. Kemudian import data di ke dalam phyton (google collab)"
   ]
  },
  {
   "cell_type": "code",
   "execution_count": 1,
   "id": "23109744",
   "metadata": {},
   "outputs": [
    {
     "name": "stdout",
     "output_type": "stream",
     "text": [
      "mkdir: /Users/mac/.kaggle: File exists\n"
     ]
    }
   ],
   "source": [
    "!mkdir ~/.kaggle\n",
    "!cp kaggle.json ~/.kaggle/\n",
    "!chmod 600 ~/.kaggle/kaggle.json # kaggle.json didapatkan dari setiap akun kagel"
   ]
  },
  {
   "cell_type": "code",
   "execution_count": null,
   "id": "6f2274fd",
   "metadata": {},
   "outputs": [
    {
     "name": "stdout",
     "output_type": "stream",
     "text": [
      "Dataset URL: https://www.kaggle.com/datasets/aprabowo/indonesia-tourism-destination\n",
      "License(s): copyright-authors\n",
      "Downloading indonesia-tourism-destination.zip to /Users/mac/sertifikasi/ds\n",
      "  0%|                                                | 0.00/158k [00:00<?, ?B/s]\n",
      "100%|████████████████████████████████████████| 158k/158k [00:00<00:00, 15.4MB/s]\n"
     ]
    }
   ],
   "source": [
    "#!/bin/bash\n",
    "# !pip install kaggle\n",
    "!kaggle datasets download aprabowo/indonesia-tourism-destination"
   ]
  },
  {
   "cell_type": "code",
   "execution_count": null,
   "id": "9a9f59b7",
   "metadata": {},
   "outputs": [
    {
     "name": "stdout",
     "output_type": "stream",
     "text": [
      "Archive:  indonesia-tourism-destination.zip\n",
      "  inflating: package_tourism.csv     \n",
      "  inflating: tourism_rating.csv      \n",
      "  inflating: tourism_with_id.csv     \n",
      "  inflating: user.csv                \n"
     ]
    }
   ],
   "source": [
    "!unzip indonesia-tourism-destination.zip\n",
    "!mkdir indonesia-tourism-destination\n",
    "!mv  package_tourism.csv indonesia-tourism-destination/\n",
    "!mv  tourism_rating.csv indonesia-tourism-destination/\n",
    "!mv  tourism_with_id.csv indonesia-tourism-destination/\n",
    "!mv  user.csv indonesia-tourism-destination/\n",
    "!rm -rf indonesia-tourism-destination.zip"
   ]
  },
  {
   "cell_type": "markdown",
   "id": "3a5b5f6c",
   "metadata": {},
   "source": [
    "# 3. Menelaah Data\t"
   ]
  },
  {
   "cell_type": "markdown",
   "id": "532127c5",
   "metadata": {},
   "source": [
    "Dataset terdiri dari 3 file dengan ekstensi file <code>.csv</code>\n",
    "\n",
    "1. <code>tourism_with_id.csv</code> - mengandung informasi tempak wisata di 5 kota besar di Indonesia (hanya kota Bandung yang dipakai)\n",
    "2. <code>user.csv</code> - mengandung informasi pengguna untuk membuat rekomendasi fitur berdasar pengguna\n",
    "3. <code>tourism_rating.csv</code> - mengandung informasi pengguna, tempat wisata, dan rating untuk membuat sistem rekomendasi berdasar rating"
   ]
  },
  {
   "cell_type": "code",
   "execution_count": 3,
   "id": "f29f0708",
   "metadata": {},
   "outputs": [],
   "source": [
    "rating = pd.read_csv('indonesia-tourism-destination/tourism_rating.csv')\n",
    "place = pd.read_csv('indonesia-tourism-destination/tourism_with_id.csv')\n",
    "user = pd.read_csv('indonesia-tourism-destination/user.csv')"
   ]
  },
  {
   "cell_type": "markdown",
   "id": "0ec71364",
   "metadata": {},
   "source": [
    "## 3.1. Eksplorasi data tempat wisata"
   ]
  },
  {
   "cell_type": "code",
   "execution_count": 4,
   "id": "ce435667",
   "metadata": {},
   "outputs": [
    {
     "data": {
      "text/html": [
       "<div>\n",
       "<style scoped>\n",
       "    .dataframe tbody tr th:only-of-type {\n",
       "        vertical-align: middle;\n",
       "    }\n",
       "\n",
       "    .dataframe tbody tr th {\n",
       "        vertical-align: top;\n",
       "    }\n",
       "\n",
       "    .dataframe thead th {\n",
       "        text-align: right;\n",
       "    }\n",
       "</style>\n",
       "<table border=\"1\" class=\"dataframe\">\n",
       "  <thead>\n",
       "    <tr style=\"text-align: right;\">\n",
       "      <th></th>\n",
       "      <th>Place_Id</th>\n",
       "      <th>Place_Name</th>\n",
       "      <th>Description</th>\n",
       "      <th>Category</th>\n",
       "      <th>City</th>\n",
       "      <th>Price</th>\n",
       "      <th>Rating</th>\n",
       "      <th>Time_Minutes</th>\n",
       "      <th>Coordinate</th>\n",
       "      <th>Lat</th>\n",
       "      <th>Long</th>\n",
       "      <th>Unnamed: 11</th>\n",
       "      <th>Unnamed: 12</th>\n",
       "    </tr>\n",
       "  </thead>\n",
       "  <tbody>\n",
       "    <tr>\n",
       "      <th>0</th>\n",
       "      <td>1</td>\n",
       "      <td>Monumen Nasional</td>\n",
       "      <td>Monumen Nasional atau yang populer disingkat d...</td>\n",
       "      <td>Budaya</td>\n",
       "      <td>Jakarta</td>\n",
       "      <td>20000</td>\n",
       "      <td>4.6</td>\n",
       "      <td>15.0</td>\n",
       "      <td>{'lat': -6.1753924, 'lng': 106.8271528}</td>\n",
       "      <td>-6.175392</td>\n",
       "      <td>106.827153</td>\n",
       "      <td>NaN</td>\n",
       "      <td>1</td>\n",
       "    </tr>\n",
       "    <tr>\n",
       "      <th>1</th>\n",
       "      <td>2</td>\n",
       "      <td>Kota Tua</td>\n",
       "      <td>Kota tua di Jakarta, yang juga bernama Kota Tu...</td>\n",
       "      <td>Budaya</td>\n",
       "      <td>Jakarta</td>\n",
       "      <td>0</td>\n",
       "      <td>4.6</td>\n",
       "      <td>90.0</td>\n",
       "      <td>{'lat': -6.137644799999999, 'lng': 106.8171245}</td>\n",
       "      <td>-6.137645</td>\n",
       "      <td>106.817125</td>\n",
       "      <td>NaN</td>\n",
       "      <td>2</td>\n",
       "    </tr>\n",
       "  </tbody>\n",
       "</table>\n",
       "</div>"
      ],
      "text/plain": [
       "   Place_Id        Place_Name  \\\n",
       "0         1  Monumen Nasional   \n",
       "1         2          Kota Tua   \n",
       "\n",
       "                                         Description Category     City  Price  \\\n",
       "0  Monumen Nasional atau yang populer disingkat d...   Budaya  Jakarta  20000   \n",
       "1  Kota tua di Jakarta, yang juga bernama Kota Tu...   Budaya  Jakarta      0   \n",
       "\n",
       "   Rating  Time_Minutes                                       Coordinate  \\\n",
       "0     4.6          15.0          {'lat': -6.1753924, 'lng': 106.8271528}   \n",
       "1     4.6          90.0  {'lat': -6.137644799999999, 'lng': 106.8171245}   \n",
       "\n",
       "        Lat        Long  Unnamed: 11  Unnamed: 12  \n",
       "0 -6.175392  106.827153          NaN            1  \n",
       "1 -6.137645  106.817125          NaN            2  "
      ]
     },
     "execution_count": 4,
     "metadata": {},
     "output_type": "execute_result"
    }
   ],
   "source": [
    "# Eksplorasi data tempat wisata\n",
    "place.head(2)"
   ]
  },
  {
   "cell_type": "code",
   "execution_count": 5,
   "id": "5e7f8504",
   "metadata": {},
   "outputs": [
    {
     "name": "stdout",
     "output_type": "stream",
     "text": [
      "<class 'pandas.core.frame.DataFrame'>\n",
      "RangeIndex: 437 entries, 0 to 436\n",
      "Data columns (total 13 columns):\n",
      " #   Column        Non-Null Count  Dtype  \n",
      "---  ------        --------------  -----  \n",
      " 0   Place_Id      437 non-null    int64  \n",
      " 1   Place_Name    437 non-null    object \n",
      " 2   Description   437 non-null    object \n",
      " 3   Category      437 non-null    object \n",
      " 4   City          437 non-null    object \n",
      " 5   Price         437 non-null    int64  \n",
      " 6   Rating        437 non-null    float64\n",
      " 7   Time_Minutes  205 non-null    float64\n",
      " 8   Coordinate    437 non-null    object \n",
      " 9   Lat           437 non-null    float64\n",
      " 10  Long          437 non-null    float64\n",
      " 11  Unnamed: 11   0 non-null      float64\n",
      " 12  Unnamed: 12   437 non-null    int64  \n",
      "dtypes: float64(5), int64(3), object(5)\n",
      "memory usage: 44.5+ KB\n"
     ]
    }
   ],
   "source": [
    "place.info()"
   ]
  },
  {
   "cell_type": "code",
   "execution_count": 6,
   "id": "e44363af",
   "metadata": {},
   "outputs": [
    {
     "data": {
      "text/html": [
       "<div>\n",
       "<style scoped>\n",
       "    .dataframe tbody tr th:only-of-type {\n",
       "        vertical-align: middle;\n",
       "    }\n",
       "\n",
       "    .dataframe tbody tr th {\n",
       "        vertical-align: top;\n",
       "    }\n",
       "\n",
       "    .dataframe thead th {\n",
       "        text-align: right;\n",
       "    }\n",
       "</style>\n",
       "<table border=\"1\" class=\"dataframe\">\n",
       "  <thead>\n",
       "    <tr style=\"text-align: right;\">\n",
       "      <th></th>\n",
       "      <th>City</th>\n",
       "      <th>count</th>\n",
       "    </tr>\n",
       "  </thead>\n",
       "  <tbody>\n",
       "    <tr>\n",
       "      <th>0</th>\n",
       "      <td>Yogyakarta</td>\n",
       "      <td>126</td>\n",
       "    </tr>\n",
       "    <tr>\n",
       "      <th>1</th>\n",
       "      <td>Bandung</td>\n",
       "      <td>124</td>\n",
       "    </tr>\n",
       "    <tr>\n",
       "      <th>2</th>\n",
       "      <td>Jakarta</td>\n",
       "      <td>84</td>\n",
       "    </tr>\n",
       "    <tr>\n",
       "      <th>3</th>\n",
       "      <td>Semarang</td>\n",
       "      <td>57</td>\n",
       "    </tr>\n",
       "    <tr>\n",
       "      <th>4</th>\n",
       "      <td>Surabaya</td>\n",
       "      <td>46</td>\n",
       "    </tr>\n",
       "  </tbody>\n",
       "</table>\n",
       "</div>"
      ],
      "text/plain": [
       "         City  count\n",
       "0  Yogyakarta    126\n",
       "1     Bandung    124\n",
       "2     Jakarta     84\n",
       "3    Semarang     57\n",
       "4    Surabaya     46"
      ]
     },
     "execution_count": 6,
     "metadata": {},
     "output_type": "execute_result"
    }
   ],
   "source": [
    "tempat_top_10 = place['City'].value_counts().reset_index()\n",
    "tempat_top_10"
   ]
  },
  {
   "cell_type": "code",
   "execution_count": 7,
   "id": "6edbe331",
   "metadata": {},
   "outputs": [
    {
     "data": {
      "text/plain": [
       "Place_Id          0\n",
       "Place_Name        0\n",
       "Description       0\n",
       "Category          0\n",
       "City              0\n",
       "Price             0\n",
       "Rating            0\n",
       "Time_Minutes    232\n",
       "Coordinate        0\n",
       "Lat               0\n",
       "Long              0\n",
       "Unnamed: 11     437\n",
       "Unnamed: 12       0\n",
       "dtype: int64"
      ]
     },
     "execution_count": 7,
     "metadata": {},
     "output_type": "execute_result"
    }
   ],
   "source": [
    "place.isnull().sum()"
   ]
  },
  {
   "cell_type": "code",
   "execution_count": 8,
   "id": "9f8d067d",
   "metadata": {},
   "outputs": [],
   "source": [
    "# Filter kota yogyakarta\n",
    "# place_diy = place[place['City']=='Yogyakarta']\n",
    "# place_diy.head(2)\n",
    "\n",
    "# seluruh data digunakan\n",
    "place_diy = place"
   ]
  },
  {
   "cell_type": "markdown",
   "id": "352480e9",
   "metadata": {},
   "source": [
    "## 3.2. Eksplorasi data rating"
   ]
  },
  {
   "cell_type": "code",
   "execution_count": 9,
   "id": "a4cb7c0f",
   "metadata": {},
   "outputs": [
    {
     "data": {
      "text/html": [
       "<div>\n",
       "<style scoped>\n",
       "    .dataframe tbody tr th:only-of-type {\n",
       "        vertical-align: middle;\n",
       "    }\n",
       "\n",
       "    .dataframe tbody tr th {\n",
       "        vertical-align: top;\n",
       "    }\n",
       "\n",
       "    .dataframe thead th {\n",
       "        text-align: right;\n",
       "    }\n",
       "</style>\n",
       "<table border=\"1\" class=\"dataframe\">\n",
       "  <thead>\n",
       "    <tr style=\"text-align: right;\">\n",
       "      <th></th>\n",
       "      <th>User_Id</th>\n",
       "      <th>Place_Id</th>\n",
       "      <th>Place_Ratings</th>\n",
       "    </tr>\n",
       "  </thead>\n",
       "  <tbody>\n",
       "    <tr>\n",
       "      <th>0</th>\n",
       "      <td>1</td>\n",
       "      <td>179</td>\n",
       "      <td>3</td>\n",
       "    </tr>\n",
       "    <tr>\n",
       "      <th>1</th>\n",
       "      <td>1</td>\n",
       "      <td>344</td>\n",
       "      <td>2</td>\n",
       "    </tr>\n",
       "  </tbody>\n",
       "</table>\n",
       "</div>"
      ],
      "text/plain": [
       "   User_Id  Place_Id  Place_Ratings\n",
       "0        1       179              3\n",
       "1        1       344              2"
      ]
     },
     "execution_count": 9,
     "metadata": {},
     "output_type": "execute_result"
    }
   ],
   "source": [
    "rating.head(2)"
   ]
  },
  {
   "cell_type": "code",
   "execution_count": 10,
   "id": "d2db20d0",
   "metadata": {},
   "outputs": [
    {
     "name": "stdout",
     "output_type": "stream",
     "text": [
      "<class 'pandas.core.frame.DataFrame'>\n",
      "RangeIndex: 10000 entries, 0 to 9999\n",
      "Data columns (total 3 columns):\n",
      " #   Column         Non-Null Count  Dtype\n",
      "---  ------         --------------  -----\n",
      " 0   User_Id        10000 non-null  int64\n",
      " 1   Place_Id       10000 non-null  int64\n",
      " 2   Place_Ratings  10000 non-null  int64\n",
      "dtypes: int64(3)\n",
      "memory usage: 234.5 KB\n"
     ]
    }
   ],
   "source": [
    "rating.info()"
   ]
  },
  {
   "cell_type": "code",
   "execution_count": 11,
   "id": "0f4059a2",
   "metadata": {},
   "outputs": [
    {
     "data": {
      "text/plain": [
       "User_Id          0\n",
       "Place_Id         0\n",
       "Place_Ratings    0\n",
       "dtype: int64"
      ]
     },
     "execution_count": 11,
     "metadata": {},
     "output_type": "execute_result"
    }
   ],
   "source": [
    "rating.isnull().sum()"
   ]
  },
  {
   "cell_type": "code",
   "execution_count": 18,
   "id": "9d06d245",
   "metadata": {},
   "outputs": [
    {
     "data": {
      "text/html": [
       "<div>\n",
       "<style scoped>\n",
       "    .dataframe tbody tr th:only-of-type {\n",
       "        vertical-align: middle;\n",
       "    }\n",
       "\n",
       "    .dataframe tbody tr th {\n",
       "        vertical-align: top;\n",
       "    }\n",
       "\n",
       "    .dataframe thead th {\n",
       "        text-align: right;\n",
       "    }\n",
       "</style>\n",
       "<table border=\"1\" class=\"dataframe\">\n",
       "  <thead>\n",
       "    <tr style=\"text-align: right;\">\n",
       "      <th></th>\n",
       "      <th>User_Id</th>\n",
       "      <th>Place_Id</th>\n",
       "      <th>Place_Ratings</th>\n",
       "    </tr>\n",
       "  </thead>\n",
       "  <tbody>\n",
       "    <tr>\n",
       "      <th>0</th>\n",
       "      <td>36</td>\n",
       "      <td>1</td>\n",
       "      <td>4</td>\n",
       "    </tr>\n",
       "    <tr>\n",
       "      <th>1</th>\n",
       "      <td>38</td>\n",
       "      <td>1</td>\n",
       "      <td>2</td>\n",
       "    </tr>\n",
       "    <tr>\n",
       "      <th>2</th>\n",
       "      <td>64</td>\n",
       "      <td>1</td>\n",
       "      <td>2</td>\n",
       "    </tr>\n",
       "    <tr>\n",
       "      <th>3</th>\n",
       "      <td>74</td>\n",
       "      <td>1</td>\n",
       "      <td>2</td>\n",
       "    </tr>\n",
       "    <tr>\n",
       "      <th>4</th>\n",
       "      <td>86</td>\n",
       "      <td>1</td>\n",
       "      <td>4</td>\n",
       "    </tr>\n",
       "    <tr>\n",
       "      <th>5</th>\n",
       "      <td>100</td>\n",
       "      <td>1</td>\n",
       "      <td>1</td>\n",
       "    </tr>\n",
       "    <tr>\n",
       "      <th>6</th>\n",
       "      <td>105</td>\n",
       "      <td>1</td>\n",
       "      <td>5</td>\n",
       "    </tr>\n",
       "    <tr>\n",
       "      <th>7</th>\n",
       "      <td>118</td>\n",
       "      <td>1</td>\n",
       "      <td>4</td>\n",
       "    </tr>\n",
       "    <tr>\n",
       "      <th>8</th>\n",
       "      <td>159</td>\n",
       "      <td>1</td>\n",
       "      <td>1</td>\n",
       "    </tr>\n",
       "    <tr>\n",
       "      <th>9</th>\n",
       "      <td>162</td>\n",
       "      <td>1</td>\n",
       "      <td>5</td>\n",
       "    </tr>\n",
       "  </tbody>\n",
       "</table>\n",
       "</div>"
      ],
      "text/plain": [
       "   User_Id  Place_Id  Place_Ratings\n",
       "0       36         1              4\n",
       "1       38         1              2\n",
       "2       64         1              2\n",
       "3       74         1              2\n",
       "4       86         1              4\n",
       "5      100         1              1\n",
       "6      105         1              5\n",
       "7      118         1              4\n",
       "8      159         1              1\n",
       "9      162         1              5"
      ]
     },
     "execution_count": 18,
     "metadata": {},
     "output_type": "execute_result"
    }
   ],
   "source": [
    "rating_diy = pd.merge(rating, place_diy[['Place_Id']], how='right', on='Place_Id')\n",
    "rating_diy.head(10)"
   ]
  },
  {
   "cell_type": "markdown",
   "id": "af954849",
   "metadata": {},
   "source": [
    "## 3.3. Eksplorasi data wisatawan (user)"
   ]
  },
  {
   "cell_type": "code",
   "execution_count": 215,
   "id": "2fb09b6d",
   "metadata": {},
   "outputs": [
    {
     "data": {
      "text/html": [
       "<div>\n",
       "<style scoped>\n",
       "    .dataframe tbody tr th:only-of-type {\n",
       "        vertical-align: middle;\n",
       "    }\n",
       "\n",
       "    .dataframe tbody tr th {\n",
       "        vertical-align: top;\n",
       "    }\n",
       "\n",
       "    .dataframe thead th {\n",
       "        text-align: right;\n",
       "    }\n",
       "</style>\n",
       "<table border=\"1\" class=\"dataframe\">\n",
       "  <thead>\n",
       "    <tr style=\"text-align: right;\">\n",
       "      <th></th>\n",
       "      <th>User_Id</th>\n",
       "      <th>Location</th>\n",
       "      <th>Age</th>\n",
       "    </tr>\n",
       "  </thead>\n",
       "  <tbody>\n",
       "    <tr>\n",
       "      <th>0</th>\n",
       "      <td>1</td>\n",
       "      <td>Semarang, Jawa Tengah</td>\n",
       "      <td>20</td>\n",
       "    </tr>\n",
       "    <tr>\n",
       "      <th>1</th>\n",
       "      <td>2</td>\n",
       "      <td>Bekasi, Jawa Barat</td>\n",
       "      <td>21</td>\n",
       "    </tr>\n",
       "  </tbody>\n",
       "</table>\n",
       "</div>"
      ],
      "text/plain": [
       "   User_Id               Location  Age\n",
       "0        1  Semarang, Jawa Tengah   20\n",
       "1        2     Bekasi, Jawa Barat   21"
      ]
     },
     "execution_count": 215,
     "metadata": {},
     "output_type": "execute_result"
    }
   ],
   "source": [
    "user.head(2)"
   ]
  },
  {
   "cell_type": "code",
   "execution_count": 216,
   "id": "d8aa5806",
   "metadata": {},
   "outputs": [
    {
     "name": "stdout",
     "output_type": "stream",
     "text": [
      "<class 'pandas.core.frame.DataFrame'>\n",
      "RangeIndex: 300 entries, 0 to 299\n",
      "Data columns (total 3 columns):\n",
      " #   Column    Non-Null Count  Dtype \n",
      "---  ------    --------------  ----- \n",
      " 0   User_Id   300 non-null    int64 \n",
      " 1   Location  300 non-null    object\n",
      " 2   Age       300 non-null    int64 \n",
      "dtypes: int64(2), object(1)\n",
      "memory usage: 7.2+ KB\n"
     ]
    }
   ],
   "source": [
    "user.info()"
   ]
  },
  {
   "cell_type": "code",
   "execution_count": 217,
   "id": "d9674160",
   "metadata": {},
   "outputs": [
    {
     "data": {
      "text/plain": [
       "User_Id     0\n",
       "Location    0\n",
       "Age         0\n",
       "dtype: int64"
      ]
     },
     "execution_count": 217,
     "metadata": {},
     "output_type": "execute_result"
    }
   ],
   "source": [
    "user.isnull().sum()"
   ]
  },
  {
   "cell_type": "code",
   "execution_count": 34,
   "id": "60fd4901",
   "metadata": {},
   "outputs": [
    {
     "data": {
      "text/html": [
       "<div>\n",
       "<style scoped>\n",
       "    .dataframe tbody tr th:only-of-type {\n",
       "        vertical-align: middle;\n",
       "    }\n",
       "\n",
       "    .dataframe tbody tr th {\n",
       "        vertical-align: top;\n",
       "    }\n",
       "\n",
       "    .dataframe thead th {\n",
       "        text-align: right;\n",
       "    }\n",
       "</style>\n",
       "<table border=\"1\" class=\"dataframe\">\n",
       "  <thead>\n",
       "    <tr style=\"text-align: right;\">\n",
       "      <th></th>\n",
       "      <th>User_Id</th>\n",
       "      <th>Location</th>\n",
       "      <th>Age</th>\n",
       "    </tr>\n",
       "  </thead>\n",
       "  <tbody>\n",
       "    <tr>\n",
       "      <th>83</th>\n",
       "      <td>1</td>\n",
       "      <td>Semarang, Jawa Tengah</td>\n",
       "      <td>20</td>\n",
       "    </tr>\n",
       "    <tr>\n",
       "      <th>18</th>\n",
       "      <td>2</td>\n",
       "      <td>Bekasi, Jawa Barat</td>\n",
       "      <td>21</td>\n",
       "    </tr>\n",
       "    <tr>\n",
       "      <th>345</th>\n",
       "      <td>3</td>\n",
       "      <td>Cirebon, Jawa Barat</td>\n",
       "      <td>23</td>\n",
       "    </tr>\n",
       "    <tr>\n",
       "      <th>62</th>\n",
       "      <td>4</td>\n",
       "      <td>Bekasi, Jawa Barat</td>\n",
       "      <td>21</td>\n",
       "    </tr>\n",
       "    <tr>\n",
       "      <th>63</th>\n",
       "      <td>5</td>\n",
       "      <td>Lampung, Sumatera Selatan</td>\n",
       "      <td>20</td>\n",
       "    </tr>\n",
       "  </tbody>\n",
       "</table>\n",
       "</div>"
      ],
      "text/plain": [
       "     User_Id                   Location  Age\n",
       "83         1      Semarang, Jawa Tengah   20\n",
       "18         2         Bekasi, Jawa Barat   21\n",
       "345        3        Cirebon, Jawa Barat   23\n",
       "62         4         Bekasi, Jawa Barat   21\n",
       "63         5  Lampung, Sumatera Selatan   20"
      ]
     },
     "execution_count": 34,
     "metadata": {},
     "output_type": "execute_result"
    }
   ],
   "source": [
    "user_diy = pd.merge(user, rating_diy[['User_Id']], how='right', on='User_Id').drop_duplicates().sort_values('User_Id')\n",
    "user_diy.head()"
   ]
  },
  {
   "cell_type": "markdown",
   "id": "24d99c55",
   "metadata": {},
   "source": [
    "## 3.4. Eksplorasi Data"
   ]
  },
  {
   "cell_type": "code",
   "execution_count": 24,
   "id": "8e8c463d",
   "metadata": {},
   "outputs": [
    {
     "data": {
      "text/html": [
       "<div>\n",
       "<style scoped>\n",
       "    .dataframe tbody tr th:only-of-type {\n",
       "        vertical-align: middle;\n",
       "    }\n",
       "\n",
       "    .dataframe tbody tr th {\n",
       "        vertical-align: top;\n",
       "    }\n",
       "\n",
       "    .dataframe thead th {\n",
       "        text-align: right;\n",
       "    }\n",
       "</style>\n",
       "<table border=\"1\" class=\"dataframe\">\n",
       "  <thead>\n",
       "    <tr style=\"text-align: right;\">\n",
       "      <th></th>\n",
       "      <th>Place_Id</th>\n",
       "      <th>count</th>\n",
       "    </tr>\n",
       "  </thead>\n",
       "  <tbody>\n",
       "    <tr>\n",
       "      <th>0</th>\n",
       "      <td>177</td>\n",
       "      <td>39</td>\n",
       "    </tr>\n",
       "    <tr>\n",
       "      <th>1</th>\n",
       "      <td>298</td>\n",
       "      <td>39</td>\n",
       "    </tr>\n",
       "    <tr>\n",
       "      <th>2</th>\n",
       "      <td>437</td>\n",
       "      <td>38</td>\n",
       "    </tr>\n",
       "    <tr>\n",
       "      <th>3</th>\n",
       "      <td>201</td>\n",
       "      <td>37</td>\n",
       "    </tr>\n",
       "    <tr>\n",
       "      <th>4</th>\n",
       "      <td>208</td>\n",
       "      <td>36</td>\n",
       "    </tr>\n",
       "    <tr>\n",
       "      <th>5</th>\n",
       "      <td>167</td>\n",
       "      <td>34</td>\n",
       "    </tr>\n",
       "    <tr>\n",
       "      <th>6</th>\n",
       "      <td>244</td>\n",
       "      <td>34</td>\n",
       "    </tr>\n",
       "    <tr>\n",
       "      <th>7</th>\n",
       "      <td>344</td>\n",
       "      <td>33</td>\n",
       "    </tr>\n",
       "    <tr>\n",
       "      <th>8</th>\n",
       "      <td>402</td>\n",
       "      <td>33</td>\n",
       "    </tr>\n",
       "    <tr>\n",
       "      <th>9</th>\n",
       "      <td>29</td>\n",
       "      <td>33</td>\n",
       "    </tr>\n",
       "  </tbody>\n",
       "</table>\n",
       "</div>"
      ],
      "text/plain": [
       "   Place_Id  count\n",
       "0       177     39\n",
       "1       298     39\n",
       "2       437     38\n",
       "3       201     37\n",
       "4       208     36\n",
       "5       167     34\n",
       "6       244     34\n",
       "7       344     33\n",
       "8       402     33\n",
       "9        29     33"
      ]
     },
     "execution_count": 24,
     "metadata": {},
     "output_type": "execute_result"
    }
   ],
   "source": [
    "top_10 = rating_diy['Place_Id'].value_counts().reset_index()[0:10]\n",
    "top_10"
   ]
  },
  {
   "cell_type": "code",
   "execution_count": 25,
   "id": "8f8a55cd",
   "metadata": {},
   "outputs": [
    {
     "data": {
      "text/html": [
       "<div>\n",
       "<style scoped>\n",
       "    .dataframe tbody tr th:only-of-type {\n",
       "        vertical-align: middle;\n",
       "    }\n",
       "\n",
       "    .dataframe tbody tr th {\n",
       "        vertical-align: top;\n",
       "    }\n",
       "\n",
       "    .dataframe thead th {\n",
       "        text-align: right;\n",
       "    }\n",
       "</style>\n",
       "<table border=\"1\" class=\"dataframe\">\n",
       "  <thead>\n",
       "    <tr style=\"text-align: right;\">\n",
       "      <th></th>\n",
       "      <th>Place_Id</th>\n",
       "      <th>count</th>\n",
       "      <th>Place_Name</th>\n",
       "    </tr>\n",
       "  </thead>\n",
       "  <tbody>\n",
       "    <tr>\n",
       "      <th>0</th>\n",
       "      <td>177</td>\n",
       "      <td>39</td>\n",
       "      <td>Pantai Parangtritis</td>\n",
       "    </tr>\n",
       "    <tr>\n",
       "      <th>1</th>\n",
       "      <td>298</td>\n",
       "      <td>39</td>\n",
       "      <td>Gunung Lalakon</td>\n",
       "    </tr>\n",
       "    <tr>\n",
       "      <th>2</th>\n",
       "      <td>437</td>\n",
       "      <td>38</td>\n",
       "      <td>Gereja Perawan Maria Tak Berdosa Surabaya</td>\n",
       "    </tr>\n",
       "    <tr>\n",
       "      <th>3</th>\n",
       "      <td>201</td>\n",
       "      <td>37</td>\n",
       "      <td>Pantai Kesirat</td>\n",
       "    </tr>\n",
       "    <tr>\n",
       "      <th>4</th>\n",
       "      <td>208</td>\n",
       "      <td>36</td>\n",
       "      <td>Taman Sungai Mudal</td>\n",
       "    </tr>\n",
       "    <tr>\n",
       "      <th>5</th>\n",
       "      <td>167</td>\n",
       "      <td>34</td>\n",
       "      <td>Geoforest Watu Payung Turunan</td>\n",
       "    </tr>\n",
       "    <tr>\n",
       "      <th>6</th>\n",
       "      <td>244</td>\n",
       "      <td>34</td>\n",
       "      <td>Kampung Batu Malakasari</td>\n",
       "    </tr>\n",
       "    <tr>\n",
       "      <th>7</th>\n",
       "      <td>344</td>\n",
       "      <td>33</td>\n",
       "      <td>Pantai Marina</td>\n",
       "    </tr>\n",
       "    <tr>\n",
       "      <th>8</th>\n",
       "      <td>402</td>\n",
       "      <td>33</td>\n",
       "      <td>Food Junction Grand Pakuwon</td>\n",
       "    </tr>\n",
       "    <tr>\n",
       "      <th>9</th>\n",
       "      <td>29</td>\n",
       "      <td>33</td>\n",
       "      <td>Wisata Kuliner Pecenongan</td>\n",
       "    </tr>\n",
       "  </tbody>\n",
       "</table>\n",
       "</div>"
      ],
      "text/plain": [
       "   Place_Id  count                                 Place_Name\n",
       "0       177     39                        Pantai Parangtritis\n",
       "1       298     39                             Gunung Lalakon\n",
       "2       437     38  Gereja Perawan Maria Tak Berdosa Surabaya\n",
       "3       201     37                             Pantai Kesirat\n",
       "4       208     36                         Taman Sungai Mudal\n",
       "5       167     34              Geoforest Watu Payung Turunan\n",
       "6       244     34                    Kampung Batu Malakasari\n",
       "7       344     33                              Pantai Marina\n",
       "8       402     33                Food Junction Grand Pakuwon\n",
       "9        29     33                  Wisata Kuliner Pecenongan"
      ]
     },
     "execution_count": 25,
     "metadata": {},
     "output_type": "execute_result"
    }
   ],
   "source": [
    "# Membuat dataframe berisi lokasi dengan jumlah rating terbanyak\n",
    "top_10 = rating_diy['Place_Id'].value_counts().reset_index()[0:10]\n",
    "top_10 = pd.merge(top_10, place_diy[['Place_Id','Place_Name']], how='left', on='Place_Id')\n",
    "top_10"
   ]
  },
  {
   "cell_type": "code",
   "execution_count": 26,
   "id": "7bfd5c7c",
   "metadata": {},
   "outputs": [
    {
     "data": {
      "image/png": "[encoded data removed]",
      "text/plain": [
       "<Figure size 800x500 with 1 Axes>"
      ]
     },
     "metadata": {},
     "output_type": "display_data"
    }
   ],
   "source": [
    "# Membuat visualisasi wisata dengan jumlah rating terbanyak\n",
    "plt.figure(figsize=(8,5))\n",
    "sns.barplot(x='count', y='Place_Name', data=top_10)\n",
    "plt.title('Jumlah Tempat Wisata dengan Rating Terbanyak', pad=20)\n",
    "plt.xlabel('Jumlah Rating')\n",
    "plt.ylabel('Nama Lokasi')\n",
    "plt.show()"
   ]
  },
  {
   "cell_type": "code",
   "execution_count": 222,
   "id": "797cf091",
   "metadata": {},
   "outputs": [
    {
     "data": {
      "image/png": "[encoded data removed]",
      "text/plain": [
       "<Figure size 640x480 with 1 Axes>"
      ]
     },
     "metadata": {},
     "output_type": "display_data"
    }
   ],
   "source": [
    "sns.countplot(y='Category', data=place)\n",
    "plt.title('Perbandingan Jumlah Kategori Wisata', pad=20)\n",
    "plt.show()"
   ]
  },
  {
   "cell_type": "markdown",
   "id": "fe9c03e9",
   "metadata": {},
   "source": [
    "# 4. Memvalidasi Data\t"
   ]
  },
  {
   "cell_type": "markdown",
   "id": "36bdb948",
   "metadata": {},
   "source": [
    "proses memeriksa dan memastikan keakuratan, konsistensi, dan kelengkapan data sebelum dianalisis atau digunakan"
   ]
  },
  {
   "cell_type": "markdown",
   "id": "ad8f7d9e",
   "metadata": {},
   "source": [
    "## 4.1 data place\n"
   ]
  },
  {
   "cell_type": "code",
   "execution_count": 27,
   "id": "82082dac",
   "metadata": {},
   "outputs": [
    {
     "data": {
      "text/html": [
       "<div>\n",
       "<style scoped>\n",
       "    .dataframe tbody tr th:only-of-type {\n",
       "        vertical-align: middle;\n",
       "    }\n",
       "\n",
       "    .dataframe tbody tr th {\n",
       "        vertical-align: top;\n",
       "    }\n",
       "\n",
       "    .dataframe thead th {\n",
       "        text-align: right;\n",
       "    }\n",
       "</style>\n",
       "<table border=\"1\" class=\"dataframe\">\n",
       "  <thead>\n",
       "    <tr style=\"text-align: right;\">\n",
       "      <th></th>\n",
       "      <th>Place_Id</th>\n",
       "      <th>Place_Name</th>\n",
       "      <th>Description</th>\n",
       "      <th>Category</th>\n",
       "      <th>City</th>\n",
       "      <th>Price</th>\n",
       "      <th>Rating</th>\n",
       "      <th>Time_Minutes</th>\n",
       "      <th>Coordinate</th>\n",
       "      <th>Lat</th>\n",
       "      <th>Long</th>\n",
       "      <th>Unnamed: 11</th>\n",
       "      <th>Unnamed: 12</th>\n",
       "    </tr>\n",
       "  </thead>\n",
       "  <tbody>\n",
       "    <tr>\n",
       "      <th>0</th>\n",
       "      <td>1</td>\n",
       "      <td>Monumen Nasional</td>\n",
       "      <td>Monumen Nasional atau yang populer disingkat d...</td>\n",
       "      <td>Budaya</td>\n",
       "      <td>Jakarta</td>\n",
       "      <td>20000</td>\n",
       "      <td>4.6</td>\n",
       "      <td>15.0</td>\n",
       "      <td>{'lat': -6.1753924, 'lng': 106.8271528}</td>\n",
       "      <td>-6.175392</td>\n",
       "      <td>106.827153</td>\n",
       "      <td>NaN</td>\n",
       "      <td>1</td>\n",
       "    </tr>\n",
       "    <tr>\n",
       "      <th>1</th>\n",
       "      <td>2</td>\n",
       "      <td>Kota Tua</td>\n",
       "      <td>Kota tua di Jakarta, yang juga bernama Kota Tu...</td>\n",
       "      <td>Budaya</td>\n",
       "      <td>Jakarta</td>\n",
       "      <td>0</td>\n",
       "      <td>4.6</td>\n",
       "      <td>90.0</td>\n",
       "      <td>{'lat': -6.137644799999999, 'lng': 106.8171245}</td>\n",
       "      <td>-6.137645</td>\n",
       "      <td>106.817125</td>\n",
       "      <td>NaN</td>\n",
       "      <td>2</td>\n",
       "    </tr>\n",
       "  </tbody>\n",
       "</table>\n",
       "</div>"
      ],
      "text/plain": [
       "   Place_Id        Place_Name  \\\n",
       "0         1  Monumen Nasional   \n",
       "1         2          Kota Tua   \n",
       "\n",
       "                                         Description Category     City  Price  \\\n",
       "0  Monumen Nasional atau yang populer disingkat d...   Budaya  Jakarta  20000   \n",
       "1  Kota tua di Jakarta, yang juga bernama Kota Tu...   Budaya  Jakarta      0   \n",
       "\n",
       "   Rating  Time_Minutes                                       Coordinate  \\\n",
       "0     4.6          15.0          {'lat': -6.1753924, 'lng': 106.8271528}   \n",
       "1     4.6          90.0  {'lat': -6.137644799999999, 'lng': 106.8171245}   \n",
       "\n",
       "        Lat        Long  Unnamed: 11  Unnamed: 12  \n",
       "0 -6.175392  106.827153          NaN            1  \n",
       "1 -6.137645  106.817125          NaN            2  "
      ]
     },
     "execution_count": 27,
     "metadata": {},
     "output_type": "execute_result"
    }
   ],
   "source": [
    "place_diy.head(2)"
   ]
  },
  {
   "cell_type": "code",
   "execution_count": 28,
   "id": "67d0031a",
   "metadata": {},
   "outputs": [
    {
     "name": "stdout",
     "output_type": "stream",
     "text": [
      "[]\n",
      "[]\n",
      "[]\n"
     ]
    }
   ],
   "source": [
    "# Cek nilai ratting Tempat\n",
    "place_rate = place_diy.Rating.tolist()\n",
    "place_rate_more_than_5 = [rate for rate in place_rate if rate > 5]\n",
    "print(place_rate_more_than_5)\n",
    "place_rate_less_than_0 = [rate for rate in place_rate if rate < 0]\n",
    "print(place_rate_less_than_0)\n",
    "\n",
    "# Cek nilai harga\n",
    "place_price = place_diy.Price.tolist()\n",
    "place_price_less_than_0 = [price for rate in place_price if rate < 0]\n",
    "print(place_price_less_than_0)"
   ]
  },
  {
   "cell_type": "code",
   "execution_count": 29,
   "id": "db5db92e",
   "metadata": {},
   "outputs": [],
   "source": [
    "place_diy_val = place_diy"
   ]
  },
  {
   "cell_type": "markdown",
   "id": "40b00bc8",
   "metadata": {},
   "source": [
    "## 4.2 data rating"
   ]
  },
  {
   "cell_type": "code",
   "execution_count": 30,
   "id": "43993015",
   "metadata": {},
   "outputs": [
    {
     "data": {
      "text/html": [
       "<div>\n",
       "<style scoped>\n",
       "    .dataframe tbody tr th:only-of-type {\n",
       "        vertical-align: middle;\n",
       "    }\n",
       "\n",
       "    .dataframe tbody tr th {\n",
       "        vertical-align: top;\n",
       "    }\n",
       "\n",
       "    .dataframe thead th {\n",
       "        text-align: right;\n",
       "    }\n",
       "</style>\n",
       "<table border=\"1\" class=\"dataframe\">\n",
       "  <thead>\n",
       "    <tr style=\"text-align: right;\">\n",
       "      <th></th>\n",
       "      <th>User_Id</th>\n",
       "      <th>Place_Id</th>\n",
       "      <th>Place_Ratings</th>\n",
       "    </tr>\n",
       "  </thead>\n",
       "  <tbody>\n",
       "    <tr>\n",
       "      <th>0</th>\n",
       "      <td>36</td>\n",
       "      <td>1</td>\n",
       "      <td>4</td>\n",
       "    </tr>\n",
       "    <tr>\n",
       "      <th>1</th>\n",
       "      <td>38</td>\n",
       "      <td>1</td>\n",
       "      <td>2</td>\n",
       "    </tr>\n",
       "  </tbody>\n",
       "</table>\n",
       "</div>"
      ],
      "text/plain": [
       "   User_Id  Place_Id  Place_Ratings\n",
       "0       36         1              4\n",
       "1       38         1              2"
      ]
     },
     "execution_count": 30,
     "metadata": {},
     "output_type": "execute_result"
    }
   ],
   "source": [
    "rating_diy.head(2)"
   ]
  },
  {
   "cell_type": "code",
   "execution_count": 31,
   "id": "dd026683",
   "metadata": {},
   "outputs": [
    {
     "name": "stdout",
     "output_type": "stream",
     "text": [
      "(10000, 3)\n",
      "(9597, 3)\n"
     ]
    }
   ],
   "source": [
    "# Menghapus data duplikat berdasarkan User_Id dan Place_Id\n",
    "# Satu pengguna hanya dapat memberikan ratting pada satu tempat wisata.\n",
    "rating_diy_val = rating_diy.drop_duplicates(subset=['User_Id', 'Place_Id'])\n",
    "print(rating_diy.shape)\n",
    "print(rating_diy_val.shape)"
   ]
  },
  {
   "cell_type": "code",
   "execution_count": 32,
   "id": "37f31b61",
   "metadata": {},
   "outputs": [
    {
     "data": {
      "text/html": [
       "<div>\n",
       "<style scoped>\n",
       "    .dataframe tbody tr th:only-of-type {\n",
       "        vertical-align: middle;\n",
       "    }\n",
       "\n",
       "    .dataframe tbody tr th {\n",
       "        vertical-align: top;\n",
       "    }\n",
       "\n",
       "    .dataframe thead th {\n",
       "        text-align: right;\n",
       "    }\n",
       "</style>\n",
       "<table border=\"1\" class=\"dataframe\">\n",
       "  <thead>\n",
       "    <tr style=\"text-align: right;\">\n",
       "      <th></th>\n",
       "      <th>User_Id</th>\n",
       "      <th>Place_Id</th>\n",
       "      <th>Place_Ratings</th>\n",
       "    </tr>\n",
       "  </thead>\n",
       "  <tbody>\n",
       "    <tr>\n",
       "      <th>0</th>\n",
       "      <td>36</td>\n",
       "      <td>1</td>\n",
       "      <td>4</td>\n",
       "    </tr>\n",
       "    <tr>\n",
       "      <th>1</th>\n",
       "      <td>38</td>\n",
       "      <td>1</td>\n",
       "      <td>2</td>\n",
       "    </tr>\n",
       "  </tbody>\n",
       "</table>\n",
       "</div>"
      ],
      "text/plain": [
       "   User_Id  Place_Id  Place_Ratings\n",
       "0       36         1              4\n",
       "1       38         1              2"
      ]
     },
     "execution_count": 32,
     "metadata": {},
     "output_type": "execute_result"
    }
   ],
   "source": [
    "# Data hasil menghapus duplikat dari user dan place id\n",
    "rating_diy_val.head(2)"
   ]
  },
  {
   "cell_type": "markdown",
   "id": "44aa0309",
   "metadata": {},
   "source": [
    "## 4.3 data user"
   ]
  },
  {
   "cell_type": "code",
   "execution_count": 35,
   "id": "9ce517cd",
   "metadata": {},
   "outputs": [
    {
     "data": {
      "text/html": [
       "<div>\n",
       "<style scoped>\n",
       "    .dataframe tbody tr th:only-of-type {\n",
       "        vertical-align: middle;\n",
       "    }\n",
       "\n",
       "    .dataframe tbody tr th {\n",
       "        vertical-align: top;\n",
       "    }\n",
       "\n",
       "    .dataframe thead th {\n",
       "        text-align: right;\n",
       "    }\n",
       "</style>\n",
       "<table border=\"1\" class=\"dataframe\">\n",
       "  <thead>\n",
       "    <tr style=\"text-align: right;\">\n",
       "      <th></th>\n",
       "      <th>User_Id</th>\n",
       "      <th>Location</th>\n",
       "      <th>Age</th>\n",
       "    </tr>\n",
       "  </thead>\n",
       "  <tbody>\n",
       "    <tr>\n",
       "      <th>83</th>\n",
       "      <td>1</td>\n",
       "      <td>Semarang, Jawa Tengah</td>\n",
       "      <td>20</td>\n",
       "    </tr>\n",
       "    <tr>\n",
       "      <th>18</th>\n",
       "      <td>2</td>\n",
       "      <td>Bekasi, Jawa Barat</td>\n",
       "      <td>21</td>\n",
       "    </tr>\n",
       "  </tbody>\n",
       "</table>\n",
       "</div>"
      ],
      "text/plain": [
       "    User_Id               Location  Age\n",
       "83        1  Semarang, Jawa Tengah   20\n",
       "18        2     Bekasi, Jawa Barat   21"
      ]
     },
     "execution_count": 35,
     "metadata": {},
     "output_type": "execute_result"
    }
   ],
   "source": [
    "user_diy.head(2)"
   ]
  },
  {
   "cell_type": "code",
   "execution_count": 36,
   "id": "8ee52360",
   "metadata": {},
   "outputs": [
    {
     "data": {
      "image/png": "[encoded data removed]",
      "text/plain": [
       "<Figure size 500x300 with 1 Axes>"
      ]
     },
     "metadata": {},
     "output_type": "display_data"
    }
   ],
   "source": [
    "# Cek apakah ada data umur yang aneh\n",
    "plt.figure(figsize=(5,3))\n",
    "sns.boxplot(user_diy['Age']);\n",
    "plt.title('Distribusi Usia User', pad=20)\n",
    "plt.show()"
   ]
  },
  {
   "cell_type": "code",
   "execution_count": 37,
   "id": "14250cbd",
   "metadata": {},
   "outputs": [],
   "source": [
    "user_diy_val = user_diy"
   ]
  },
  {
   "cell_type": "markdown",
   "id": "2b922e09",
   "metadata": {},
   "source": [
    "# 6. Membersihkan Data\t"
   ]
  },
  {
   "cell_type": "markdown",
   "id": "db85862a",
   "metadata": {},
   "source": [
    "Berdasarkan tahapan 3 terdapat beberap kolom data yang memiliki nilai NULL yang besar. Dan data tersebut tidak digunakan dalam proses mengembangan model yaitu <code>'Time_Minutes','Unnamed: 11','Unnamed: 12', 'Coordinate'</code>, maka dilakukan penghaspusan kolom"
   ]
  },
  {
   "cell_type": "code",
   "execution_count": 38,
   "id": "5b757c16",
   "metadata": {},
   "outputs": [
    {
     "data": {
      "text/html": [
       "<div>\n",
       "<style scoped>\n",
       "    .dataframe tbody tr th:only-of-type {\n",
       "        vertical-align: middle;\n",
       "    }\n",
       "\n",
       "    .dataframe tbody tr th {\n",
       "        vertical-align: top;\n",
       "    }\n",
       "\n",
       "    .dataframe thead th {\n",
       "        text-align: right;\n",
       "    }\n",
       "</style>\n",
       "<table border=\"1\" class=\"dataframe\">\n",
       "  <thead>\n",
       "    <tr style=\"text-align: right;\">\n",
       "      <th></th>\n",
       "      <th>Place_Id</th>\n",
       "      <th>Place_Name</th>\n",
       "      <th>Description</th>\n",
       "      <th>Category</th>\n",
       "      <th>City</th>\n",
       "      <th>Price</th>\n",
       "      <th>Rating</th>\n",
       "      <th>Lat</th>\n",
       "      <th>Long</th>\n",
       "    </tr>\n",
       "  </thead>\n",
       "  <tbody>\n",
       "    <tr>\n",
       "      <th>0</th>\n",
       "      <td>1</td>\n",
       "      <td>Monumen Nasional</td>\n",
       "      <td>Monumen Nasional atau yang populer disingkat d...</td>\n",
       "      <td>Budaya</td>\n",
       "      <td>Jakarta</td>\n",
       "      <td>20000</td>\n",
       "      <td>4.6</td>\n",
       "      <td>-6.175392</td>\n",
       "      <td>106.827153</td>\n",
       "    </tr>\n",
       "    <tr>\n",
       "      <th>1</th>\n",
       "      <td>2</td>\n",
       "      <td>Kota Tua</td>\n",
       "      <td>Kota tua di Jakarta, yang juga bernama Kota Tu...</td>\n",
       "      <td>Budaya</td>\n",
       "      <td>Jakarta</td>\n",
       "      <td>0</td>\n",
       "      <td>4.6</td>\n",
       "      <td>-6.137645</td>\n",
       "      <td>106.817125</td>\n",
       "    </tr>\n",
       "    <tr>\n",
       "      <th>2</th>\n",
       "      <td>3</td>\n",
       "      <td>Dunia Fantasi</td>\n",
       "      <td>Dunia Fantasi atau disebut juga Dufan adalah t...</td>\n",
       "      <td>Taman Hiburan</td>\n",
       "      <td>Jakarta</td>\n",
       "      <td>270000</td>\n",
       "      <td>4.6</td>\n",
       "      <td>-6.125312</td>\n",
       "      <td>106.833538</td>\n",
       "    </tr>\n",
       "    <tr>\n",
       "      <th>3</th>\n",
       "      <td>4</td>\n",
       "      <td>Taman Mini Indonesia Indah (TMII)</td>\n",
       "      <td>Taman Mini Indonesia Indah merupakan suatu kaw...</td>\n",
       "      <td>Taman Hiburan</td>\n",
       "      <td>Jakarta</td>\n",
       "      <td>10000</td>\n",
       "      <td>4.5</td>\n",
       "      <td>-6.302446</td>\n",
       "      <td>106.895156</td>\n",
       "    </tr>\n",
       "    <tr>\n",
       "      <th>4</th>\n",
       "      <td>5</td>\n",
       "      <td>Atlantis Water Adventure</td>\n",
       "      <td>Atlantis Water Adventure atau dikenal dengan A...</td>\n",
       "      <td>Taman Hiburan</td>\n",
       "      <td>Jakarta</td>\n",
       "      <td>94000</td>\n",
       "      <td>4.5</td>\n",
       "      <td>-6.124190</td>\n",
       "      <td>106.839134</td>\n",
       "    </tr>\n",
       "    <tr>\n",
       "      <th>5</th>\n",
       "      <td>6</td>\n",
       "      <td>Taman Impian Jaya Ancol</td>\n",
       "      <td>Taman Impian Jaya Ancol merupakan sebuah objek...</td>\n",
       "      <td>Taman Hiburan</td>\n",
       "      <td>Jakarta</td>\n",
       "      <td>25000</td>\n",
       "      <td>4.5</td>\n",
       "      <td>-6.117333</td>\n",
       "      <td>106.857995</td>\n",
       "    </tr>\n",
       "    <tr>\n",
       "      <th>6</th>\n",
       "      <td>7</td>\n",
       "      <td>Kebun Binatang Ragunan</td>\n",
       "      <td>Kebun Binatang Ragunan adalah sebuah kebun bin...</td>\n",
       "      <td>Cagar Alam</td>\n",
       "      <td>Jakarta</td>\n",
       "      <td>4000</td>\n",
       "      <td>4.5</td>\n",
       "      <td>-6.312459</td>\n",
       "      <td>106.820187</td>\n",
       "    </tr>\n",
       "    <tr>\n",
       "      <th>7</th>\n",
       "      <td>8</td>\n",
       "      <td>Ocean Ecopark</td>\n",
       "      <td>Ocean Ecopark Salah satu zona rekreasi Ancol y...</td>\n",
       "      <td>Taman Hiburan</td>\n",
       "      <td>Jakarta</td>\n",
       "      <td>180000</td>\n",
       "      <td>4.0</td>\n",
       "      <td>-6.125802</td>\n",
       "      <td>106.836325</td>\n",
       "    </tr>\n",
       "    <tr>\n",
       "      <th>8</th>\n",
       "      <td>9</td>\n",
       "      <td>Pelabuhan Marina</td>\n",
       "      <td>Pelabuhan Marina Ancol berada di kawasan Taman...</td>\n",
       "      <td>Bahari</td>\n",
       "      <td>Jakarta</td>\n",
       "      <td>175000</td>\n",
       "      <td>4.4</td>\n",
       "      <td>1.078880</td>\n",
       "      <td>103.931398</td>\n",
       "    </tr>\n",
       "    <tr>\n",
       "      <th>9</th>\n",
       "      <td>10</td>\n",
       "      <td>Pulau Tidung</td>\n",
       "      <td>Pulau Tidung adalah salah satu kelurahan di ke...</td>\n",
       "      <td>Bahari</td>\n",
       "      <td>Jakarta</td>\n",
       "      <td>150000</td>\n",
       "      <td>4.5</td>\n",
       "      <td>-5.803205</td>\n",
       "      <td>106.523791</td>\n",
       "    </tr>\n",
       "  </tbody>\n",
       "</table>\n",
       "</div>"
      ],
      "text/plain": [
       "   Place_Id                         Place_Name  \\\n",
       "0         1                   Monumen Nasional   \n",
       "1         2                           Kota Tua   \n",
       "2         3                      Dunia Fantasi   \n",
       "3         4  Taman Mini Indonesia Indah (TMII)   \n",
       "4         5           Atlantis Water Adventure   \n",
       "5         6            Taman Impian Jaya Ancol   \n",
       "6         7             Kebun Binatang Ragunan   \n",
       "7         8                      Ocean Ecopark   \n",
       "8         9                   Pelabuhan Marina   \n",
       "9        10                       Pulau Tidung   \n",
       "\n",
       "                                         Description       Category     City  \\\n",
       "0  Monumen Nasional atau yang populer disingkat d...         Budaya  Jakarta   \n",
       "1  Kota tua di Jakarta, yang juga bernama Kota Tu...         Budaya  Jakarta   \n",
       "2  Dunia Fantasi atau disebut juga Dufan adalah t...  Taman Hiburan  Jakarta   \n",
       "3  Taman Mini Indonesia Indah merupakan suatu kaw...  Taman Hiburan  Jakarta   \n",
       "4  Atlantis Water Adventure atau dikenal dengan A...  Taman Hiburan  Jakarta   \n",
       "5  Taman Impian Jaya Ancol merupakan sebuah objek...  Taman Hiburan  Jakarta   \n",
       "6  Kebun Binatang Ragunan adalah sebuah kebun bin...     Cagar Alam  Jakarta   \n",
       "7  Ocean Ecopark Salah satu zona rekreasi Ancol y...  Taman Hiburan  Jakarta   \n",
       "8  Pelabuhan Marina Ancol berada di kawasan Taman...         Bahari  Jakarta   \n",
       "9  Pulau Tidung adalah salah satu kelurahan di ke...         Bahari  Jakarta   \n",
       "\n",
       "    Price  Rating       Lat        Long  \n",
       "0   20000     4.6 -6.175392  106.827153  \n",
       "1       0     4.6 -6.137645  106.817125  \n",
       "2  270000     4.6 -6.125312  106.833538  \n",
       "3   10000     4.5 -6.302446  106.895156  \n",
       "4   94000     4.5 -6.124190  106.839134  \n",
       "5   25000     4.5 -6.117333  106.857995  \n",
       "6    4000     4.5 -6.312459  106.820187  \n",
       "7  180000     4.0 -6.125802  106.836325  \n",
       "8  175000     4.4  1.078880  103.931398  \n",
       "9  150000     4.5 -5.803205  106.523791  "
      ]
     },
     "execution_count": 38,
     "metadata": {},
     "output_type": "execute_result"
    }
   ],
   "source": [
    "place_diy_new = place_diy_val.drop(['Time_Minutes','Unnamed: 11','Unnamed: 12', 'Coordinate'], axis=1)\n",
    "place_diy_new.head(10)"
   ]
  },
  {
   "cell_type": "code",
   "execution_count": 39,
   "id": "d21007ee",
   "metadata": {},
   "outputs": [
    {
     "data": {
      "text/html": [
       "<div>\n",
       "<style scoped>\n",
       "    .dataframe tbody tr th:only-of-type {\n",
       "        vertical-align: middle;\n",
       "    }\n",
       "\n",
       "    .dataframe tbody tr th {\n",
       "        vertical-align: top;\n",
       "    }\n",
       "\n",
       "    .dataframe thead th {\n",
       "        text-align: right;\n",
       "    }\n",
       "</style>\n",
       "<table border=\"1\" class=\"dataframe\">\n",
       "  <thead>\n",
       "    <tr style=\"text-align: right;\">\n",
       "      <th></th>\n",
       "      <th>User_Id</th>\n",
       "      <th>Place_Id</th>\n",
       "      <th>Place_Ratings</th>\n",
       "    </tr>\n",
       "  </thead>\n",
       "  <tbody>\n",
       "    <tr>\n",
       "      <th>0</th>\n",
       "      <td>36</td>\n",
       "      <td>1</td>\n",
       "      <td>4</td>\n",
       "    </tr>\n",
       "    <tr>\n",
       "      <th>1</th>\n",
       "      <td>38</td>\n",
       "      <td>1</td>\n",
       "      <td>2</td>\n",
       "    </tr>\n",
       "    <tr>\n",
       "      <th>2</th>\n",
       "      <td>64</td>\n",
       "      <td>1</td>\n",
       "      <td>2</td>\n",
       "    </tr>\n",
       "    <tr>\n",
       "      <th>3</th>\n",
       "      <td>74</td>\n",
       "      <td>1</td>\n",
       "      <td>2</td>\n",
       "    </tr>\n",
       "    <tr>\n",
       "      <th>4</th>\n",
       "      <td>86</td>\n",
       "      <td>1</td>\n",
       "      <td>4</td>\n",
       "    </tr>\n",
       "    <tr>\n",
       "      <th>5</th>\n",
       "      <td>100</td>\n",
       "      <td>1</td>\n",
       "      <td>1</td>\n",
       "    </tr>\n",
       "    <tr>\n",
       "      <th>6</th>\n",
       "      <td>105</td>\n",
       "      <td>1</td>\n",
       "      <td>5</td>\n",
       "    </tr>\n",
       "    <tr>\n",
       "      <th>7</th>\n",
       "      <td>118</td>\n",
       "      <td>1</td>\n",
       "      <td>4</td>\n",
       "    </tr>\n",
       "    <tr>\n",
       "      <th>8</th>\n",
       "      <td>159</td>\n",
       "      <td>1</td>\n",
       "      <td>1</td>\n",
       "    </tr>\n",
       "    <tr>\n",
       "      <th>9</th>\n",
       "      <td>162</td>\n",
       "      <td>1</td>\n",
       "      <td>5</td>\n",
       "    </tr>\n",
       "  </tbody>\n",
       "</table>\n",
       "</div>"
      ],
      "text/plain": [
       "   User_Id  Place_Id  Place_Ratings\n",
       "0       36         1              4\n",
       "1       38         1              2\n",
       "2       64         1              2\n",
       "3       74         1              2\n",
       "4       86         1              4\n",
       "5      100         1              1\n",
       "6      105         1              5\n",
       "7      118         1              4\n",
       "8      159         1              1\n",
       "9      162         1              5"
      ]
     },
     "execution_count": 39,
     "metadata": {},
     "output_type": "execute_result"
    }
   ],
   "source": [
    "rating_diy_new = rating_diy_val\n",
    "rating_diy_new.head(10)"
   ]
  },
  {
   "cell_type": "code",
   "execution_count": 40,
   "id": "c46397dd",
   "metadata": {},
   "outputs": [
    {
     "data": {
      "text/html": [
       "<div>\n",
       "<style scoped>\n",
       "    .dataframe tbody tr th:only-of-type {\n",
       "        vertical-align: middle;\n",
       "    }\n",
       "\n",
       "    .dataframe tbody tr th {\n",
       "        vertical-align: top;\n",
       "    }\n",
       "\n",
       "    .dataframe thead th {\n",
       "        text-align: right;\n",
       "    }\n",
       "</style>\n",
       "<table border=\"1\" class=\"dataframe\">\n",
       "  <thead>\n",
       "    <tr style=\"text-align: right;\">\n",
       "      <th></th>\n",
       "      <th>User_Id</th>\n",
       "      <th>Location</th>\n",
       "      <th>Age</th>\n",
       "    </tr>\n",
       "  </thead>\n",
       "  <tbody>\n",
       "    <tr>\n",
       "      <th>83</th>\n",
       "      <td>1</td>\n",
       "      <td>Semarang, Jawa Tengah</td>\n",
       "      <td>20</td>\n",
       "    </tr>\n",
       "    <tr>\n",
       "      <th>18</th>\n",
       "      <td>2</td>\n",
       "      <td>Bekasi, Jawa Barat</td>\n",
       "      <td>21</td>\n",
       "    </tr>\n",
       "    <tr>\n",
       "      <th>345</th>\n",
       "      <td>3</td>\n",
       "      <td>Cirebon, Jawa Barat</td>\n",
       "      <td>23</td>\n",
       "    </tr>\n",
       "    <tr>\n",
       "      <th>62</th>\n",
       "      <td>4</td>\n",
       "      <td>Bekasi, Jawa Barat</td>\n",
       "      <td>21</td>\n",
       "    </tr>\n",
       "    <tr>\n",
       "      <th>63</th>\n",
       "      <td>5</td>\n",
       "      <td>Lampung, Sumatera Selatan</td>\n",
       "      <td>20</td>\n",
       "    </tr>\n",
       "    <tr>\n",
       "      <th>64</th>\n",
       "      <td>6</td>\n",
       "      <td>Jakarta Utara, DKI Jakarta</td>\n",
       "      <td>18</td>\n",
       "    </tr>\n",
       "    <tr>\n",
       "      <th>256</th>\n",
       "      <td>7</td>\n",
       "      <td>Jakarta Selatan, DKI Jakarta</td>\n",
       "      <td>39</td>\n",
       "    </tr>\n",
       "    <tr>\n",
       "      <th>528</th>\n",
       "      <td>8</td>\n",
       "      <td>Bandung, Jawa Barat</td>\n",
       "      <td>40</td>\n",
       "    </tr>\n",
       "    <tr>\n",
       "      <th>602</th>\n",
       "      <td>9</td>\n",
       "      <td>Surabaya, Jawa Timur</td>\n",
       "      <td>38</td>\n",
       "    </tr>\n",
       "    <tr>\n",
       "      <th>241</th>\n",
       "      <td>10</td>\n",
       "      <td>Bekasi, Jawa Barat</td>\n",
       "      <td>39</td>\n",
       "    </tr>\n",
       "  </tbody>\n",
       "</table>\n",
       "</div>"
      ],
      "text/plain": [
       "     User_Id                      Location  Age\n",
       "83         1         Semarang, Jawa Tengah   20\n",
       "18         2            Bekasi, Jawa Barat   21\n",
       "345        3           Cirebon, Jawa Barat   23\n",
       "62         4            Bekasi, Jawa Barat   21\n",
       "63         5     Lampung, Sumatera Selatan   20\n",
       "64         6    Jakarta Utara, DKI Jakarta   18\n",
       "256        7  Jakarta Selatan, DKI Jakarta   39\n",
       "528        8           Bandung, Jawa Barat   40\n",
       "602        9          Surabaya, Jawa Timur   38\n",
       "241       10            Bekasi, Jawa Barat   39"
      ]
     },
     "execution_count": 40,
     "metadata": {},
     "output_type": "execute_result"
    }
   ],
   "source": [
    "user_diy_new = user_diy_val\n",
    "user_diy_new.head(10)"
   ]
  },
  {
   "cell_type": "markdown",
   "id": "0b912748",
   "metadata": {},
   "source": [
    "# 5. Menentukan Objek Data\t"
   ]
  },
  {
   "cell_type": "markdown",
   "id": "75ca13f6",
   "metadata": {},
   "source": [
    "Menentukan atribut data yang akan digunakan dalam pemodelan ini adalah data interaksi antara pengguna dan tempat wisata yang direpresentasikan dengan nilai rating. Sehingga data yang digunakan adalah data <code>rating</code>"
   ]
  },
  {
   "cell_type": "code",
   "execution_count": 41,
   "id": "ab87a553",
   "metadata": {},
   "outputs": [
    {
     "data": {
      "text/html": [
       "<div>\n",
       "<style scoped>\n",
       "    .dataframe tbody tr th:only-of-type {\n",
       "        vertical-align: middle;\n",
       "    }\n",
       "\n",
       "    .dataframe tbody tr th {\n",
       "        vertical-align: top;\n",
       "    }\n",
       "\n",
       "    .dataframe thead th {\n",
       "        text-align: right;\n",
       "    }\n",
       "</style>\n",
       "<table border=\"1\" class=\"dataframe\">\n",
       "  <thead>\n",
       "    <tr style=\"text-align: right;\">\n",
       "      <th></th>\n",
       "      <th>User_Id</th>\n",
       "      <th>Place_Id</th>\n",
       "      <th>Place_Ratings</th>\n",
       "    </tr>\n",
       "  </thead>\n",
       "  <tbody>\n",
       "    <tr>\n",
       "      <th>0</th>\n",
       "      <td>36</td>\n",
       "      <td>1</td>\n",
       "      <td>4</td>\n",
       "    </tr>\n",
       "    <tr>\n",
       "      <th>1</th>\n",
       "      <td>38</td>\n",
       "      <td>1</td>\n",
       "      <td>2</td>\n",
       "    </tr>\n",
       "    <tr>\n",
       "      <th>2</th>\n",
       "      <td>64</td>\n",
       "      <td>1</td>\n",
       "      <td>2</td>\n",
       "    </tr>\n",
       "    <tr>\n",
       "      <th>3</th>\n",
       "      <td>74</td>\n",
       "      <td>1</td>\n",
       "      <td>2</td>\n",
       "    </tr>\n",
       "    <tr>\n",
       "      <th>4</th>\n",
       "      <td>86</td>\n",
       "      <td>1</td>\n",
       "      <td>4</td>\n",
       "    </tr>\n",
       "    <tr>\n",
       "      <th>5</th>\n",
       "      <td>100</td>\n",
       "      <td>1</td>\n",
       "      <td>1</td>\n",
       "    </tr>\n",
       "    <tr>\n",
       "      <th>6</th>\n",
       "      <td>105</td>\n",
       "      <td>1</td>\n",
       "      <td>5</td>\n",
       "    </tr>\n",
       "    <tr>\n",
       "      <th>7</th>\n",
       "      <td>118</td>\n",
       "      <td>1</td>\n",
       "      <td>4</td>\n",
       "    </tr>\n",
       "    <tr>\n",
       "      <th>8</th>\n",
       "      <td>159</td>\n",
       "      <td>1</td>\n",
       "      <td>1</td>\n",
       "    </tr>\n",
       "    <tr>\n",
       "      <th>9</th>\n",
       "      <td>162</td>\n",
       "      <td>1</td>\n",
       "      <td>5</td>\n",
       "    </tr>\n",
       "  </tbody>\n",
       "</table>\n",
       "</div>"
      ],
      "text/plain": [
       "   User_Id  Place_Id  Place_Ratings\n",
       "0       36         1              4\n",
       "1       38         1              2\n",
       "2       64         1              2\n",
       "3       74         1              2\n",
       "4       86         1              4\n",
       "5      100         1              1\n",
       "6      105         1              5\n",
       "7      118         1              4\n",
       "8      159         1              1\n",
       "9      162         1              5"
      ]
     },
     "execution_count": 41,
     "metadata": {},
     "output_type": "execute_result"
    }
   ],
   "source": [
    "rating_diy_new.head(10)"
   ]
  },
  {
   "cell_type": "code",
   "execution_count": 43,
   "id": "b0d92db6",
   "metadata": {},
   "outputs": [
    {
     "data": {
      "text/plain": [
       "User_Id          int64\n",
       "Place_Id         int64\n",
       "Place_Ratings    int64\n",
       "dtype: object"
      ]
     },
     "execution_count": 43,
     "metadata": {},
     "output_type": "execute_result"
    }
   ],
   "source": [
    "rating_diy_new.dtypes"
   ]
  },
  {
   "cell_type": "markdown",
   "id": "f9d802f8",
   "metadata": {},
   "source": [
    "# 7. Mengkonstruksi Data\t"
   ]
  },
  {
   "cell_type": "code",
   "execution_count": 68,
   "id": "59fc13cf",
   "metadata": {},
   "outputs": [],
   "source": [
    "import pandas as pd\n",
    "from sklearn.model_selection import train_test_split\n",
    "from sklearn.preprocessing import LabelEncoder\n",
    "import torch\n",
    "from torch.utils.data import Dataset, DataLoader\n",
    "\n",
    "# Load dataset\n",
    "df = rating_diy_new\n",
    "\n",
    "# Encoding user & item\n",
    "user_encoder = LabelEncoder()\n",
    "item_encoder = LabelEncoder()\n",
    "\n",
    "df['user'] = user_encoder.fit_transform(df['User_Id'])\n",
    "df['item'] = item_encoder.fit_transform(df['Place_Id'])\n",
    "\n",
    "num_users = df['user'].nunique()\n",
    "num_items = df['item'].nunique()\n",
    "\n",
    "# Train-Test split\n",
    "train, test = train_test_split(df[['user', 'item', 'Place_Ratings']], test_size=0.2, random_state=42)"
   ]
  },
  {
   "cell_type": "code",
   "execution_count": 45,
   "id": "6aed0423",
   "metadata": {},
   "outputs": [
    {
     "name": "stdout",
     "output_type": "stream",
     "text": [
      "(7677, 3)\n",
      "      user  item  Place_Ratings\n",
      "5365    16   235              3\n",
      "8009   136   349              4\n",
      "(1920, 3)\n",
      "      user  item  Place_Ratings\n",
      "1373   104    59              5\n",
      "9898     4   433              4\n"
     ]
    }
   ],
   "source": [
    "print(train.shape)\n",
    "print(train.head(2))\n",
    "print(test.shape)\n",
    "print(test.head(2))"
   ]
  },
  {
   "cell_type": "code",
   "execution_count": 46,
   "id": "3c77a496",
   "metadata": {},
   "outputs": [],
   "source": [
    "# Custom Dataset\n",
    "class RatingDataset(Dataset):\n",
    "    def __init__(self, df):\n",
    "        self.users = torch.tensor(df['user'].values, dtype=torch.long)\n",
    "        self.items = torch.tensor(df['item'].values, dtype=torch.long)\n",
    "        self.ratings = torch.tensor(df['Place_Ratings'].values, dtype=torch.float)\n",
    "\n",
    "    def __len__(self):\n",
    "        return len(self.users)\n",
    "\n",
    "    def __getitem__(self, idx):\n",
    "        return self.users[idx], self.items[idx], self.ratings[idx]\n",
    "\n",
    "train_ds = RatingDataset(train)\n",
    "test_ds = RatingDataset(test)\n",
    "train_dl = DataLoader(train_ds, batch_size=64, shuffle=True)\n",
    "test_dl = DataLoader(test_ds, batch_size=64)"
   ]
  },
  {
   "cell_type": "markdown",
   "id": "8dff244b",
   "metadata": {},
   "source": [
    "# 8. Membangun Model"
   ]
  },
  {
   "cell_type": "code",
   "execution_count": 48,
   "id": "2f300a28",
   "metadata": {},
   "outputs": [],
   "source": [
    "# menentukan niali seed\n",
    "\n",
    "import random\n",
    "import numpy as np\n",
    "\n",
    "def set_seed(seed=42):\n",
    "    torch.manual_seed(seed)\n",
    "    np.random.seed(seed)\n",
    "    random.seed(seed)\n",
    "\n",
    "set_seed(2025)"
   ]
  },
  {
   "cell_type": "markdown",
   "id": "f6b2e308",
   "metadata": {},
   "source": [
    "## 8.1 Neural Collaborative Filtering"
   ]
  },
  {
   "cell_type": "code",
   "execution_count": 49,
   "id": "4ca68055",
   "metadata": {},
   "outputs": [],
   "source": [
    "import torch.nn as nn\n",
    "\n",
    "class NCF(nn.Module):\n",
    "    def __init__(self, num_users, num_items, emb_size=64):\n",
    "        super(NCF, self).__init__()\n",
    "        self.user_embedding = nn.Embedding(num_users, emb_size)\n",
    "        self.item_embedding = nn.Embedding(num_items, emb_size)\n",
    "\n",
    "        self.mlp = nn.Sequential(\n",
    "            nn.Linear(emb_size * 2, 128),\n",
    "            nn.BatchNorm1d(128),\n",
    "            nn.ReLU(),\n",
    "            nn.Dropout(0.3),\n",
    "\n",
    "            nn.Linear(128, 64),\n",
    "            nn.BatchNorm1d(64),\n",
    "            nn.ReLU(),\n",
    "            nn.Dropout(0.3),\n",
    "\n",
    "            nn.Linear(64, 1)  # regresi: output rating\n",
    "        )\n",
    "\n",
    "    def forward(self, user, item):\n",
    "        user_emb = self.user_embedding(user)\n",
    "        item_emb = self.item_embedding(item)\n",
    "        x = torch.cat([user_emb, item_emb], dim=1)\n",
    "        out = self.mlp(x)\n",
    "        return out.squeeze()"
   ]
  },
  {
   "cell_type": "markdown",
   "id": "d3e60168",
   "metadata": {},
   "source": [
    "Training"
   ]
  },
  {
   "cell_type": "code",
   "execution_count": 50,
   "id": "f4645687",
   "metadata": {},
   "outputs": [
    {
     "name": "stdout",
     "output_type": "stream",
     "text": [
      "Epoch 1/50 - Train Loss: 2.5928, Test Loss: 2.2523\n",
      "Epoch 2/50 - Train Loss: 2.0869, Test Loss: 2.0525\n",
      "Epoch 3/50 - Train Loss: 1.9372, Test Loss: 2.0203\n",
      "Epoch 4/50 - Train Loss: 1.8767, Test Loss: 2.0389\n",
      "Epoch 5/50 - Train Loss: 1.8040, Test Loss: 2.1135\n",
      "Epoch 6/50 - Train Loss: 1.7323, Test Loss: 2.0644\n",
      "Epoch 7/50 - Train Loss: 1.6635, Test Loss: 2.1453\n",
      "Epoch 8/50 - Train Loss: 1.5932, Test Loss: 2.1552\n",
      "Epoch 9/50 - Train Loss: 1.5454, Test Loss: 2.2564\n",
      "Epoch 10/50 - Train Loss: 1.4892, Test Loss: 2.2947\n",
      "Epoch 11/50 - Train Loss: 1.4175, Test Loss: 2.2923\n",
      "Epoch 12/50 - Train Loss: 1.3563, Test Loss: 2.3168\n",
      "Epoch 13/50 - Train Loss: 1.3145, Test Loss: 2.3736\n",
      "Epoch 14/50 - Train Loss: 1.2504, Test Loss: 2.4418\n",
      "Epoch 15/50 - Train Loss: 1.1714, Test Loss: 2.3678\n",
      "Epoch 16/50 - Train Loss: 1.1691, Test Loss: 2.4006\n",
      "Epoch 17/50 - Train Loss: 1.1093, Test Loss: 2.4138\n",
      "Epoch 18/50 - Train Loss: 1.0813, Test Loss: 2.4440\n",
      "Epoch 19/50 - Train Loss: 1.0331, Test Loss: 2.4237\n",
      "Epoch 20/50 - Train Loss: 0.9874, Test Loss: 2.5427\n",
      "Epoch 21/50 - Train Loss: 0.9735, Test Loss: 2.5311\n",
      "Epoch 22/50 - Train Loss: 0.9252, Test Loss: 2.5253\n",
      "Epoch 23/50 - Train Loss: 0.9061, Test Loss: 2.5666\n",
      "Epoch 24/50 - Train Loss: 0.8742, Test Loss: 2.6002\n",
      "Epoch 25/50 - Train Loss: 0.8709, Test Loss: 2.5864\n",
      "Epoch 26/50 - Train Loss: 0.8403, Test Loss: 2.5475\n",
      "Epoch 27/50 - Train Loss: 0.8254, Test Loss: 2.6098\n",
      "Epoch 28/50 - Train Loss: 0.8112, Test Loss: 2.6094\n",
      "Epoch 29/50 - Train Loss: 0.8213, Test Loss: 2.5666\n",
      "Epoch 30/50 - Train Loss: 0.7819, Test Loss: 2.6363\n",
      "Epoch 31/50 - Train Loss: 0.7605, Test Loss: 2.5707\n",
      "Epoch 32/50 - Train Loss: 0.7521, Test Loss: 2.6083\n",
      "Epoch 33/50 - Train Loss: 0.7377, Test Loss: 2.7139\n",
      "Epoch 34/50 - Train Loss: 0.7369, Test Loss: 2.6086\n",
      "Epoch 35/50 - Train Loss: 0.6998, Test Loss: 2.6560\n",
      "Epoch 36/50 - Train Loss: 0.7001, Test Loss: 2.6620\n",
      "Epoch 37/50 - Train Loss: 0.7048, Test Loss: 2.6942\n",
      "Epoch 38/50 - Train Loss: 0.7061, Test Loss: 2.7373\n",
      "Epoch 39/50 - Train Loss: 0.6757, Test Loss: 2.7315\n",
      "Epoch 40/50 - Train Loss: 0.6663, Test Loss: 2.7503\n",
      "Epoch 41/50 - Train Loss: 0.6627, Test Loss: 2.6638\n",
      "Epoch 42/50 - Train Loss: 0.6595, Test Loss: 2.6899\n",
      "Epoch 43/50 - Train Loss: 0.6533, Test Loss: 2.6765\n",
      "Epoch 44/50 - Train Loss: 0.6582, Test Loss: 2.7374\n",
      "Epoch 45/50 - Train Loss: 0.6398, Test Loss: 2.7111\n",
      "Epoch 46/50 - Train Loss: 0.6117, Test Loss: 2.7261\n",
      "Epoch 47/50 - Train Loss: 0.6253, Test Loss: 2.7522\n",
      "Epoch 48/50 - Train Loss: 0.6323, Test Loss: 2.6876\n",
      "Epoch 49/50 - Train Loss: 0.6017, Test Loss: 2.6626\n",
      "Epoch 50/50 - Train Loss: 0.6106, Test Loss: 2.7329\n"
     ]
    }
   ],
   "source": [
    "model = NCF(num_users, num_items, emb_size=32)\n",
    "loss_fn = nn.MSELoss()\n",
    "optimizer = torch.optim.Adam(model.parameters(), lr=0.01, weight_decay=1e-5)\n",
    "\n",
    "train_losses = []\n",
    "test_losses = []\n",
    "\n",
    "epochs = 50\n",
    "for epoch in range(epochs):\n",
    "    model.train()\n",
    "    total_train_loss = 0\n",
    "    for user, item, rating in train_dl:\n",
    "        pred = model(user, item)\n",
    "        loss = loss_fn(pred, rating)\n",
    "\n",
    "        optimizer.zero_grad()\n",
    "        loss.backward()\n",
    "        optimizer.step()\n",
    "\n",
    "        total_train_loss += loss.item()\n",
    "\n",
    "    avg_train_loss = total_train_loss / len(train_dl)\n",
    "    train_losses.append(avg_train_loss)\n",
    "\n",
    "    # Validation loss\n",
    "    model.eval()\n",
    "    total_val_loss = 0\n",
    "    with torch.no_grad():\n",
    "        for user, item, rating in test_dl:\n",
    "            pred = model(user, item)\n",
    "            loss = loss_fn(pred, rating)\n",
    "            total_val_loss += loss.item()\n",
    "    \n",
    "    avg_test_loss = total_val_loss / len(test_dl)\n",
    "    test_losses.append(avg_test_loss)\n",
    "\n",
    "    print(f\"Epoch {epoch+1}/{epochs} - Train Loss: {avg_train_loss:.4f}, Test Loss: {avg_test_loss:.4f}\")\n"
   ]
  },
  {
   "cell_type": "code",
   "execution_count": 51,
   "id": "a40dabf3",
   "metadata": {},
   "outputs": [
    {
     "data": {
      "image/png": "[encoded data removed]",
      "text/plain": [
       "<Figure size 800x500 with 1 Axes>"
      ]
     },
     "metadata": {},
     "output_type": "display_data"
    }
   ],
   "source": [
    "plt.figure(figsize=(8,5))\n",
    "plt.plot(train_losses, label='Train Loss')\n",
    "plt.plot(test_losses, label='Testing Loss')\n",
    "plt.xlabel('Epoch')\n",
    "plt.ylabel('Loss (MSE)')\n",
    "plt.title('Training & Testing Loss')\n",
    "plt.legend()\n",
    "plt.grid(True)\n",
    "plt.show()"
   ]
  },
  {
   "cell_type": "markdown",
   "id": "78f5793c",
   "metadata": {},
   "source": [
    "Early stopping"
   ]
  },
  {
   "cell_type": "code",
   "execution_count": 52,
   "id": "3e6c6397",
   "metadata": {},
   "outputs": [],
   "source": [
    "class EarlyStopping:\n",
    "    def __init__(self, patience=5, delta=0):\n",
    "        self.patience = patience\n",
    "        self.delta = delta\n",
    "        self.best_score = None\n",
    "        self.early_stop = False\n",
    "        self.counter = 0\n",
    "        self.best_model_state = None\n",
    "\n",
    "    def __call__(self, val_loss, model):\n",
    "        score = -val_loss\n",
    "\n",
    "        if self.best_score is None:\n",
    "            self.best_score = score\n",
    "            self.best_model_state = model.state_dict()\n",
    "        elif score < self.best_score + self.delta:\n",
    "            self.counter += 1\n",
    "            if self.counter >= self.patience:\n",
    "                self.early_stop = True\n",
    "        else:\n",
    "            self.best_score = score\n",
    "            self.best_model_state = model.state_dict()\n",
    "            self.counter = 0\n",
    "\n",
    "    def load_best_model(self, model):\n",
    "        model.load_state_dict(self.best_model_state)"
   ]
  },
  {
   "cell_type": "code",
   "execution_count": 53,
   "id": "d2ac160a",
   "metadata": {},
   "outputs": [
    {
     "name": "stdout",
     "output_type": "stream",
     "text": [
      "Epoch 1/50 - Train Loss: 2.7407, Test Loss: 2.2127\n",
      "Epoch 2/50 - Train Loss: 2.1134, Test Loss: 2.1141\n",
      "Epoch 3/50 - Train Loss: 1.9714, Test Loss: 2.2101\n",
      "Epoch 4/50 - Train Loss: 1.8845, Test Loss: 2.1257\n",
      "Epoch 5/50 - Train Loss: 1.7996, Test Loss: 2.1149\n",
      "Epoch 6/50 - Train Loss: 1.7271, Test Loss: 2.1472\n",
      "Epoch 7/50 - Train Loss: 1.6905, Test Loss: 2.2310\n",
      "Early stopping\n"
     ]
    }
   ],
   "source": [
    "model = NCF(num_users, num_items, emb_size=32)\n",
    "loss_fn = nn.MSELoss()\n",
    "optimizer = torch.optim.Adam(model.parameters(), lr=0.01, weight_decay=1e-5)\n",
    "early_stopping = EarlyStopping(patience=5, delta=0.01)\n",
    "\n",
    "train_losses = []\n",
    "test_losses = []\n",
    "\n",
    "epochs = 50\n",
    "for epoch in range(epochs):\n",
    "    model.train()\n",
    "    total_train_loss = 0\n",
    "    for user, item, rating in train_dl:\n",
    "        pred = model(user, item)\n",
    "        loss = loss_fn(pred, rating)\n",
    "\n",
    "        optimizer.zero_grad()\n",
    "        loss.backward()\n",
    "        optimizer.step()\n",
    "\n",
    "        total_train_loss += loss.item()\n",
    "\n",
    "    avg_train_loss = total_train_loss / len(train_dl)\n",
    "    train_losses.append(avg_train_loss)\n",
    "\n",
    "    # Validation loss\n",
    "    model.eval()\n",
    "    total_val_loss = 0\n",
    "    with torch.no_grad():\n",
    "        for user, item, rating in test_dl:\n",
    "            pred = model(user, item)\n",
    "            loss = loss_fn(pred, rating)\n",
    "            total_val_loss += loss.item()\n",
    "    \n",
    "    avg_test_loss = total_val_loss / len(test_dl)\n",
    "    test_losses.append(avg_test_loss)\n",
    "\n",
    "    print(f\"Epoch {epoch+1}/{epochs} - Train Loss: {avg_train_loss:.4f}, Test Loss: {avg_test_loss:.4f}\")\n",
    "\n",
    "    early_stopping(avg_test_loss, model)\n",
    "    if early_stopping.early_stop:\n",
    "        print(\"Early stopping\")\n",
    "        break\n"
   ]
  },
  {
   "cell_type": "code",
   "execution_count": 55,
   "id": "72a4c9ba",
   "metadata": {},
   "outputs": [
    {
     "data": {
      "image/png": "[encoded data removed]",
      "text/plain": [
       "<Figure size 800x500 with 1 Axes>"
      ]
     },
     "metadata": {},
     "output_type": "display_data"
    }
   ],
   "source": [
    "plt.figure(figsize=(8,5))\n",
    "plt.plot(train_losses, label='Train Loss')\n",
    "plt.plot(test_losses, label='Testing Loss')\n",
    "plt.xlabel('Epoch')\n",
    "plt.ylabel('Loss (MSE)')\n",
    "plt.title('Training & Testing Loss')\n",
    "plt.legend()\n",
    "plt.grid(True)\n",
    "plt.show()"
   ]
  },
  {
   "cell_type": "markdown",
   "id": "47602485",
   "metadata": {},
   "source": [
    "## 8.2 MF"
   ]
  },
  {
   "cell_type": "code",
   "execution_count": 56,
   "id": "94f66114",
   "metadata": {},
   "outputs": [],
   "source": [
    "class MatrixFactorization(nn.Module):\n",
    "    def __init__(self, n_users, n_items, n_factors=20):\n",
    "        super(MatrixFactorization, self).__init__()\n",
    "        self.user_factors = nn.Embedding(n_users, n_factors)  # P matrix\n",
    "        self.item_factors = nn.Embedding(n_items, n_factors)  # Q matrix\n",
    "\n",
    "    def forward(self, user, item):\n",
    "        user_vec = self.user_factors(user)\n",
    "        item_vec = self.item_factors(item)\n",
    "        return (user_vec * item_vec).sum(1)  # dot product\n"
   ]
  },
  {
   "cell_type": "markdown",
   "id": "dabbfc5c",
   "metadata": {},
   "source": [
    "Training"
   ]
  },
  {
   "cell_type": "code",
   "execution_count": 57,
   "id": "ce7b0288",
   "metadata": {},
   "outputs": [
    {
     "name": "stdout",
     "output_type": "stream",
     "text": [
      "Epoch 1/10 - Train Loss: 40.2509, Val Loss: 38.3663\n",
      "Epoch 2/10 - Train Loss: 22.8026, Val Loss: 34.6692\n",
      "Epoch 3/10 - Train Loss: 14.0858, Val Loss: 32.8062\n",
      "Epoch 4/10 - Train Loss: 9.0500, Val Loss: 31.8375\n",
      "Epoch 5/10 - Train Loss: 5.9761, Val Loss: 31.3506\n",
      "Epoch 6/10 - Train Loss: 4.0045, Val Loss: 31.2342\n",
      "Epoch 7/10 - Train Loss: 2.7004, Val Loss: 31.1766\n",
      "Epoch 8/10 - Train Loss: 1.8177, Val Loss: 31.2309\n",
      "Epoch 9/10 - Train Loss: 1.2303, Val Loss: 31.3065\n",
      "Epoch 10/10 - Train Loss: 0.8281, Val Loss: 31.4177\n"
     ]
    }
   ],
   "source": [
    "model_mf = MatrixFactorization(num_users, num_items, n_factors=32)\n",
    "loss_fn = nn.MSELoss()\n",
    "optimizer = torch.optim.Adam(model_mf.parameters(), lr=0.01)\n",
    "\n",
    "train_losses_mf = []\n",
    "test_losses_mf = []\n",
    "\n",
    "epochs = 10\n",
    "for epoch in range(epochs):\n",
    "    model_mf.train()\n",
    "    total_train_loss = 0\n",
    "    for user, item, rating in train_dl:\n",
    "        pred = model_mf(user, item)\n",
    "        loss = loss_fn(pred, rating)\n",
    "\n",
    "        optimizer.zero_grad()\n",
    "        loss.backward()\n",
    "        optimizer.step()\n",
    "\n",
    "        total_train_loss += loss.item()\n",
    "\n",
    "    avg_train_loss = total_train_loss / len(train_dl)\n",
    "    train_losses_mf.append(avg_train_loss)\n",
    "\n",
    "    # Validation loss\n",
    "    model_mf.eval()\n",
    "    total_val_loss = 0\n",
    "    with torch.no_grad():\n",
    "        for user, item, rating in test_dl:\n",
    "            pred = model_mf(user, item)\n",
    "            loss = loss_fn(pred, rating)\n",
    "            total_val_loss += loss.item()\n",
    "    \n",
    "    avg_test_loss = total_val_loss / len(test_dl)\n",
    "    test_losses_mf.append(avg_test_loss)\n",
    "\n",
    "    print(f\"Epoch {epoch+1}/{epochs} - Train Loss: {avg_train_loss:.4f}, Val Loss: {avg_test_loss:.4f}\")"
   ]
  },
  {
   "cell_type": "code",
   "execution_count": 58,
   "id": "8b92f2b7",
   "metadata": {},
   "outputs": [
    {
     "data": {
      "image/png": "[encoded data removed]",
      "text/plain": [
       "<Figure size 800x500 with 1 Axes>"
      ]
     },
     "metadata": {},
     "output_type": "display_data"
    }
   ],
   "source": [
    "plt.figure(figsize=(8,5))\n",
    "plt.plot(train_losses_mf, label='Train Loss')\n",
    "plt.plot(test_losses_mf, label='Validation Loss')\n",
    "plt.xlabel('Epoch')\n",
    "plt.ylabel('Loss (MSE)')\n",
    "plt.title('Training & Validation Loss')\n",
    "plt.legend()\n",
    "plt.grid(True)\n",
    "plt.show()"
   ]
  },
  {
   "cell_type": "markdown",
   "id": "29704d7e",
   "metadata": {},
   "source": [
    "## 8.3. Comparison"
   ]
  },
  {
   "cell_type": "code",
   "execution_count": 59,
   "id": "2b3c2f29",
   "metadata": {},
   "outputs": [
    {
     "data": {
      "image/png": "[encoded data removed]",
      "text/plain": [
       "<Figure size 800x500 with 1 Axes>"
      ]
     },
     "metadata": {},
     "output_type": "display_data"
    }
   ],
   "source": [
    "plt.figure(figsize=(8,5))\n",
    "plt.plot(train_losses, label='Train Loss NCF')\n",
    "plt.plot(train_losses_mf, label='Train Loss MF')\n",
    "plt.xlabel('Epoch')\n",
    "plt.ylabel('Loss (MSE)')\n",
    "plt.title('Training')\n",
    "plt.legend()\n",
    "plt.grid(True)\n",
    "plt.show()"
   ]
  },
  {
   "cell_type": "code",
   "execution_count": 60,
   "id": "3cae592e",
   "metadata": {},
   "outputs": [
    {
     "data": {
      "image/png": "[encoded data removed]",
      "text/plain": [
       "<Figure size 800x500 with 1 Axes>"
      ]
     },
     "metadata": {},
     "output_type": "display_data"
    }
   ],
   "source": [
    "plt.figure(figsize=(8,5))\n",
    "plt.plot(test_losses, label='Test Loss NCF')\n",
    "plt.plot(test_losses_mf, label='Test Loss MF')\n",
    "plt.xlabel('Epoch')\n",
    "plt.ylabel('Loss (MSE)')\n",
    "plt.title('Tesing')\n",
    "plt.legend()\n",
    "plt.grid(True)\n",
    "plt.show()"
   ]
  },
  {
   "cell_type": "markdown",
   "id": "37d0c8a6",
   "metadata": {},
   "source": [
    "# 9. Mengevaluasi Hasil Pemodelan\t"
   ]
  },
  {
   "cell_type": "markdown",
   "id": "31b5332a",
   "metadata": {},
   "source": [
    "RMSE mengukur:\n",
    "- Seberapa jauh prediksi model dari nilai sebenarnya, dalam satuan yang sama dengan target (misalnya: rating 1–5).\n",
    "- Penalti lebih besar terhadap prediksi yang jauh dari nilai aktual (karena kuadrat error).\n",
    "\n",
    "MAE mengukur:\n",
    "- Kesalahan rata-rata dalam satuan aslinya\n",
    "- Seberapa besar kesalahan prediksi model secara umum\n",
    "- Semua kesalahan diperlakukan sama (tidak mengkuadratkan error)"
   ]
  },
  {
   "cell_type": "markdown",
   "id": "ffef9352",
   "metadata": {},
   "source": [
    "## 9.1. Neural Collaborative Filtering (NFC)"
   ]
  },
  {
   "cell_type": "code",
   "execution_count": 61,
   "id": "354e3ea8",
   "metadata": {},
   "outputs": [],
   "source": [
    "early_stopping.load_best_model(model)"
   ]
  },
  {
   "cell_type": "code",
   "execution_count": 62,
   "id": "e15eabb2",
   "metadata": {},
   "outputs": [
    {
     "name": "stdout",
     "output_type": "stream",
     "text": [
      "Test RMSE: 1.4937\n",
      "Test MAE : 1.2696\n"
     ]
    }
   ],
   "source": [
    "from sklearn.metrics import mean_squared_error, mean_absolute_error\n",
    "\n",
    "model.eval()\n",
    "preds, targets = [], []\n",
    "\n",
    "with torch.no_grad():\n",
    "    for user, item, rating in test_dl:\n",
    "        pred = model(user, item)\n",
    "        preds.extend(pred.tolist())\n",
    "        targets.extend(rating.tolist())\n",
    "\n",
    "mse = mean_squared_error(targets, preds)\n",
    "rmse = np.sqrt(mse)\n",
    "mae = mean_absolute_error(targets, preds)\n",
    "\n",
    "print(f\"Test RMSE: {rmse:.4f}\")\n",
    "print(f\"Test MAE : {mae:.4f}\")"
   ]
  },
  {
   "cell_type": "markdown",
   "id": "ee675f3d",
   "metadata": {},
   "source": [
    "## 9.2. MF"
   ]
  },
  {
   "cell_type": "code",
   "execution_count": 63,
   "id": "a26635ed",
   "metadata": {},
   "outputs": [
    {
     "name": "stdout",
     "output_type": "stream",
     "text": [
      "Test RMSE: 5.6052\n",
      "Test MAE : 4.4255\n"
     ]
    }
   ],
   "source": [
    "from sklearn.metrics import mean_squared_error, mean_absolute_error\n",
    "\n",
    "model_mf.eval()\n",
    "preds, targets = [], []\n",
    "\n",
    "with torch.no_grad():\n",
    "    for user, item, rating in test_dl:\n",
    "        pred = model_mf(user, item)\n",
    "        preds.extend(pred.tolist())\n",
    "        targets.extend(rating.tolist())\n",
    "\n",
    "mse = mean_squared_error(targets, preds)\n",
    "rmse = np.sqrt(mse)\n",
    "mae = mean_absolute_error(targets, preds)\n",
    "\n",
    "print(f\"Test RMSE: {rmse:.4f}\")\n",
    "print(f\"Test MAE : {mae:.4f}\")\n"
   ]
  },
  {
   "cell_type": "markdown",
   "id": "1d22be25",
   "metadata": {},
   "source": [
    "## 9.3 Simpan model"
   ]
  },
  {
   "cell_type": "code",
   "execution_count": 64,
   "id": "41d60e85",
   "metadata": {},
   "outputs": [],
   "source": [
    "# Neural Collaborative Filtering (NFC)\n",
    "torch.save(model.state_dict(), \"model/ncf_model.pth\")"
   ]
  },
  {
   "cell_type": "markdown",
   "id": "e6ed7273",
   "metadata": {},
   "source": [
    "# 10. Deployment"
   ]
  },
  {
   "cell_type": "code",
   "execution_count": 65,
   "id": "c674d90e",
   "metadata": {},
   "outputs": [
    {
     "data": {
      "text/plain": [
       "NCF(\n",
       "  (user_embedding): Embedding(300, 32)\n",
       "  (item_embedding): Embedding(437, 32)\n",
       "  (mlp): Sequential(\n",
       "    (0): Linear(in_features=64, out_features=128, bias=True)\n",
       "    (1): BatchNorm1d(128, eps=1e-05, momentum=0.1, affine=True, track_running_stats=True)\n",
       "    (2): ReLU()\n",
       "    (3): Dropout(p=0.3, inplace=False)\n",
       "    (4): Linear(in_features=128, out_features=64, bias=True)\n",
       "    (5): BatchNorm1d(64, eps=1e-05, momentum=0.1, affine=True, track_running_stats=True)\n",
       "    (6): ReLU()\n",
       "    (7): Dropout(p=0.3, inplace=False)\n",
       "    (8): Linear(in_features=64, out_features=1, bias=True)\n",
       "  )\n",
       ")"
      ]
     },
     "execution_count": 65,
     "metadata": {},
     "output_type": "execute_result"
    }
   ],
   "source": [
    "from fastapi import FastAPI\n",
    "from pydantic import BaseModel\n",
    "import torch\n",
    "import torch.nn as nn\n",
    "import pandas as pd\n",
    "\n",
    "app = FastAPI()\n",
    "\n",
    "model = NCF(num_users, num_items, emb_size=32)\n",
    "model.load_state_dict(torch.load(\"model/ncf_model.pth\", map_location='cpu'))\n",
    "model.eval()"
   ]
  },
  {
   "cell_type": "code",
   "execution_count": 66,
   "id": "85f1234a",
   "metadata": {},
   "outputs": [],
   "source": [
    "class UserInput(BaseModel):\n",
    "    user_id: int\n",
    "    top_k: int = 10"
   ]
  },
  {
   "cell_type": "code",
   "execution_count": 67,
   "id": "e93d8701",
   "metadata": {},
   "outputs": [],
   "source": [
    "@app.post(\"/recommend/\")\n",
    "def recommend(input: UserInput):\n",
    "    if input.user_id not in user2idx:\n",
    "        return {\"error\": \"Unknown user_id\"}\n",
    "\n",
    "    user_idx = torch.tensor([user2idx[input.user_id]] * n_items)\n",
    "    item_idx = torch.tensor(list(range(n_items)))\n",
    "\n",
    "    with torch.no_grad():\n",
    "        scores = model(user_idx, item_idx)\n",
    "\n",
    "    top_k_idx = torch.topk(scores, input.top_k).indices\n",
    "    recommended_items = [int(idx2item[i.item()]) for i in top_k_idx]\n",
    "\n",
    "    return {\n",
    "        \"user_id\": input.user_id,\n",
    "        \"recommended_movie_ids\": recommended_items\n",
    "    }\n"
   ]
  },
  {
   "cell_type": "code",
   "execution_count": 381,
   "id": "21d0b9bf",
   "metadata": {},
   "outputs": [],
   "source": [
    "# !uvicorn main:app --reload"
   ]
  },
  {
   "cell_type": "code",
   "execution_count": 379,
   "id": "2398a8f7",
   "metadata": {},
   "outputs": [
    {
     "name": "stdout",
     "output_type": "stream",
     "text": [
      "curl: (7) Failed to connect to 127.0.0.1 port 8000 after 8 ms: Couldn't connect to server\n"
     ]
    }
   ],
   "source": [
    "!curl -X POST http://127.0.0.1:8000/recommend/ \\\n",
    "    -H \"Content-Type: application/json\" \\\n",
    "    -d '{\"user_id\": 1, \"top_k\": 5}'\n"
   ]
  }
 ],
 "metadata": {
  "kernelspec": {
   "display_name": ".venv",
   "language": "python",
   "name": "python3"
  },
  "language_info": {
   "codemirror_mode": {
    "name": "ipython",
    "version": 3
   },
   "file_extension": ".py",
   "mimetype": "text/x-python",
   "name": "python",
   "nbconvert_exporter": "python",
   "pygments_lexer": "ipython3",
   "version": "3.11.4"
  }
 },
 "nbformat": 4,
 "nbformat_minor": 5
}
